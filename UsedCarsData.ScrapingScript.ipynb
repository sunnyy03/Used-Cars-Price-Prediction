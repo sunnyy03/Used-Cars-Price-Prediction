{
 "cells": [
  {
   "cell_type": "code",
   "execution_count": 1,
   "id": "8b483a29",
   "metadata": {},
   "outputs": [],
   "source": [
    "# Importing Libraries\n",
    "import selenium\n",
    "import pandas as pd\n",
    "import time\n",
    "from bs4 import BeautifulSoup\n",
    "\n",
    "# Importing selenium webdriver \n",
    "from selenium import webdriver\n",
    "\n",
    "# Importing required Exceptions which needs to handled\n",
    "from selenium.common.exceptions import StaleElementReferenceException, NoSuchElementException\n",
    "\n",
    "#importing time\n",
    "import time\n",
    "\n",
    "#Importing requests\n",
    "import requests\n",
    "\n",
    "#importing warnings\n",
    "import warnings\n",
    "warnings.filterwarnings('ignore')\n",
    "\n",
    "# importing regex\n",
    "import re\n",
    "\n",
    "#importing keys\n",
    "from selenium.webdriver.common.keys import Keys\n",
    "from selenium.webdriver.common.by import By\n",
    "\n",
    "#importing action chains\n",
    "from selenium.webdriver import ActionChains"
   ]
  },
  {
   "cell_type": "code",
   "execution_count": 3,
   "id": "1977f154",
   "metadata": {},
   "outputs": [],
   "source": [
    "driver=webdriver.Chrome(\"chromedriver.exe\")\n",
    "time.sleep(2)"
   ]
  },
  {
   "cell_type": "markdown",
   "id": "02cdf7ef",
   "metadata": {},
   "source": [
    "-For Delhi/NCR location"
   ]
  },
  {
   "cell_type": "code",
   "execution_count": 4,
   "id": "3c78f8d3",
   "metadata": {},
   "outputs": [],
   "source": [
    "#loading the website on automated window\n",
    "\n",
    "driver.get(\"https://www.cardekho.com/used-cars+in+delhi-ncr\")"
   ]
  },
  {
   "cell_type": "code",
   "execution_count": 5,
   "id": "82766864",
   "metadata": {},
   "outputs": [],
   "source": [
    "actions = ActionChains(driver)\n",
    "for _ in range(5000): # Adjusting for how far down the page we want\n",
    "    actions.send_keys(Keys.ARROW_DOWN).perform()"
   ]
  },
  {
   "cell_type": "code",
   "execution_count": 27,
   "id": "10a13ee9",
   "metadata": {},
   "outputs": [],
   "source": [
    "#making empty lists\n",
    "brand = []   \n",
    "variant = []\n",
    "trans = []\n",
    "kms = []\n",
    "fuel = []\n",
    "price = []"
   ]
  },
  {
   "cell_type": "code",
   "execution_count": 28,
   "id": "8182edad",
   "metadata": {},
   "outputs": [],
   "source": [
    "#extracting brand name\n",
    "\n",
    "try:\n",
    "    for i in driver.find_elements_by_xpath('//div[@class=\"gsc_col-xs-7  carsName\"]/a'):      \n",
    "        brand.append(i.text)\n",
    "except NoSuchElementException:\n",
    "    brand.append(np.nan)    \n",
    "\n",
    "#extracting variant\n",
    "\n",
    "try:\n",
    "    for i in driver.find_elements_by_xpath('//div[@class=\"car_variant\"]'):\n",
    "        variant.append(i.text)\n",
    "except NoSuchElementException:\n",
    "    variant.append(np.nan)    \n",
    "\n",
    "#extracting transmission\n",
    "\n",
    "try:\n",
    "    for i in driver.find_elements_by_xpath('//div[@class=\"truncate dotlist-2\"]/div[3]'):\n",
    "        trans.append(i.text)\n",
    "except NoSuchElementException:\n",
    "    trans.append(np.nan)\n",
    "    \n",
    "#extracing kilometers\n",
    "\n",
    "try:\n",
    "    for i in driver.find_elements_by_xpath('//div[@class=\"truncate dotlist-2\"]/div[1]'):\n",
    "        kms.append(i.text.replace('kms',' ').strip())\n",
    "except NoSuchElementException:\n",
    "    kms.append(np.nan)\n",
    "        \n",
    "#extracting fuel\n",
    "    \n",
    "try:\n",
    "    for i in driver.find_elements_by_xpath('//div[@class=\"truncate dotlist-2\"]/div[2]'):\n",
    "        fuel.append(i.text)\n",
    "except NoSuchElementException:\n",
    "    fuel.append(np.nan)\n",
    "    \n",
    "#extratcing price\n",
    "\n",
    "try:\n",
    "    for i in driver.find_elements_by_xpath('//span[@class=\"amnt \"]'):\n",
    "        price.append(i.text.replace('₹',' ').strip())\n",
    "except NoSuchElementException:\n",
    "    price.append(np.nan)"
   ]
  },
  {
   "cell_type": "code",
   "execution_count": 29,
   "id": "60033c83",
   "metadata": {},
   "outputs": [],
   "source": [
    "#so, as this above data is for Delhi/NCR location, lets make a list for location for a better understanding\n",
    "\n",
    "loc=[]          #creating an empty list\n",
    "\n",
    "for i in brand:\n",
    "    loc.append('Delhi/NCR')"
   ]
  },
  {
   "cell_type": "code",
   "execution_count": 31,
   "id": "2d011f6a",
   "metadata": {},
   "outputs": [
    {
     "name": "stdout",
     "output_type": "stream",
     "text": [
      "1120 1120 1120 1120 1120 1120 1120 1120\n"
     ]
    }
   ],
   "source": [
    "print(len(model),len(variant),len(trans),len(kms),len(fuel),len(year),len(loc),len(price))"
   ]
  },
  {
   "cell_type": "code",
   "execution_count": null,
   "id": "bac15d26",
   "metadata": {},
   "outputs": [],
   "source": []
  },
  {
   "cell_type": "markdown",
   "id": "e052f295",
   "metadata": {},
   "source": [
    "-For Mumbai location"
   ]
  },
  {
   "cell_type": "code",
   "execution_count": 32,
   "id": "a526ad08",
   "metadata": {},
   "outputs": [],
   "source": [
    "#loading the website on automated window\n",
    "\n",
    "driver.get(\"https://www.cardekho.com/used-cars+in+mumbai\")\n",
    "time.sleep(3)"
   ]
  },
  {
   "cell_type": "code",
   "execution_count": 33,
   "id": "1b00f341",
   "metadata": {},
   "outputs": [],
   "source": [
    "actions = ActionChains(driver)\n",
    "for _ in range(5000): # Adjusting for how far down the page we want\n",
    "    actions.send_keys(Keys.ARROW_DOWN).perform()"
   ]
  },
  {
   "cell_type": "code",
   "execution_count": 34,
   "id": "8871a851",
   "metadata": {},
   "outputs": [],
   "source": [
    "#extracting brand name\n",
    "\n",
    "try:\n",
    "    for i in driver.find_elements_by_xpath('//div[@class=\"gsc_col-xs-7  carsName\"]/a'):      \n",
    "        brand.append(i.text)\n",
    "except NoSuchElementException:\n",
    "    brand.append(np.nan)    \n",
    "\n",
    "#extracting variant\n",
    "\n",
    "try:\n",
    "    for i in driver.find_elements_by_xpath('//div[@class=\"car_variant\"]'):\n",
    "        variant.append(i.text)\n",
    "except NoSuchElementException:\n",
    "    variant.append(np.nan)    \n",
    "\n",
    "#extracting transmission\n",
    "\n",
    "try:\n",
    "    for i in driver.find_elements_by_xpath('//div[@class=\"truncate dotlist-2\"]/div[3]'):\n",
    "        trans.append(i.text)\n",
    "except NoSuchElementException:\n",
    "    trans.append(np.nan)\n",
    "    \n",
    "#extracing kilometers\n",
    "\n",
    "try:\n",
    "    for i in driver.find_elements_by_xpath('//div[@class=\"truncate dotlist-2\"]/div[1]'):\n",
    "        kms.append(i.text.replace('kms',' ').strip())\n",
    "except NoSuchElementException:\n",
    "    kms.append(np.nan)\n",
    "        \n",
    "#extracting fuel\n",
    "    \n",
    "try:\n",
    "    for i in driver.find_elements_by_xpath('//div[@class=\"truncate dotlist-2\"]/div[2]'):\n",
    "        fuel.append(i.text)\n",
    "except NoSuchElementException:\n",
    "    fuel.append(np.nan)\n",
    "    \n",
    "#extratcing price\n",
    "\n",
    "try:\n",
    "    for i in driver.find_elements_by_xpath('//span[@class=\"amnt \"]'):\n",
    "        price.append(i.text.replace('₹',' ').strip())\n",
    "except NoSuchElementException:\n",
    "    price.append(np.nan)"
   ]
  },
  {
   "cell_type": "code",
   "execution_count": 39,
   "id": "8cd58db1",
   "metadata": {},
   "outputs": [],
   "source": [
    "#so, as this above data is for Mumbai location, lets add Mumbai to the location data\n",
    "\n",
    "while len(brand)>len(loc):\n",
    "    loc.append('Mumbai')"
   ]
  },
  {
   "cell_type": "code",
   "execution_count": 40,
   "id": "05d1e41d",
   "metadata": {},
   "outputs": [
    {
     "name": "stdout",
     "output_type": "stream",
     "text": [
      "2460 2460 2460 2460 2460 2460 2460\n"
     ]
    }
   ],
   "source": [
    "print(len(brand),len(variant),len(trans),len(kms),len(fuel),len(loc),len(price))"
   ]
  },
  {
   "cell_type": "code",
   "execution_count": null,
   "id": "c727800c",
   "metadata": {},
   "outputs": [],
   "source": []
  },
  {
   "cell_type": "markdown",
   "id": "4924fe85",
   "metadata": {},
   "source": [
    "-For Pune location"
   ]
  },
  {
   "cell_type": "code",
   "execution_count": 47,
   "id": "48694748",
   "metadata": {},
   "outputs": [],
   "source": [
    "driver.get(\"https://www.cardekho.com/used-cars+in+pune\")\n",
    "time.sleep(3)"
   ]
  },
  {
   "cell_type": "code",
   "execution_count": 48,
   "id": "03866ccc",
   "metadata": {},
   "outputs": [],
   "source": [
    "actions = ActionChains(driver)\n",
    "for _ in range(3000): # Adjusting for how far down the page we want\n",
    "    actions.send_keys(Keys.ARROW_DOWN).perform()"
   ]
  },
  {
   "cell_type": "code",
   "execution_count": 49,
   "id": "b3bd17ec",
   "metadata": {},
   "outputs": [],
   "source": [
    "#extracting brand name\n",
    "\n",
    "try:\n",
    "    for i in driver.find_elements_by_xpath('//div[@class=\"gsc_col-xs-7  carsName\"]/a'):      \n",
    "        brand.append(i.text)\n",
    "except NoSuchElementException:\n",
    "    brand.append(np.nan)    \n",
    "\n",
    "#extracting variant\n",
    "\n",
    "try:\n",
    "    for i in driver.find_elements_by_xpath('//div[@class=\"car_variant\"]'):\n",
    "        variant.append(i.text)\n",
    "except NoSuchElementException:\n",
    "    variant.append(np.nan)    \n",
    "\n",
    "#extracting transmission\n",
    "\n",
    "try:\n",
    "    for i in driver.find_elements_by_xpath('//div[@class=\"truncate dotlist-2\"]/div[3]'):\n",
    "        trans.append(i.text)\n",
    "except NoSuchElementException:\n",
    "    trans.append(np.nan)\n",
    "    \n",
    "#extracing kilometers\n",
    "\n",
    "try:\n",
    "    for i in driver.find_elements_by_xpath('//div[@class=\"truncate dotlist-2\"]/div[1]'):\n",
    "        kms.append(i.text.replace('kms',' ').strip())\n",
    "except NoSuchElementException:\n",
    "    kms.append(np.nan)\n",
    "        \n",
    "#extracting fuel\n",
    "    \n",
    "try:\n",
    "    for i in driver.find_elements_by_xpath('//div[@class=\"truncate dotlist-2\"]/div[2]'):\n",
    "        fuel.append(i.text)\n",
    "except NoSuchElementException:\n",
    "    fuel.append(np.nan)\n",
    "    \n",
    "#extratcing price\n",
    "\n",
    "try:\n",
    "    for i in driver.find_elements_by_xpath('//span[@class=\"amnt \"]'):\n",
    "        price.append(i.text.replace('₹',' ').strip())\n",
    "except NoSuchElementException:\n",
    "    price.append(np.nan)"
   ]
  },
  {
   "cell_type": "code",
   "execution_count": 50,
   "id": "b50daba7",
   "metadata": {},
   "outputs": [],
   "source": [
    "#so, as this above data is for Pune location, lets add Pune to the location data\n",
    "\n",
    "while len(brand)>len(loc):\n",
    "    loc.append('Pune')"
   ]
  },
  {
   "cell_type": "code",
   "execution_count": 51,
   "id": "0f91c4cc",
   "metadata": {},
   "outputs": [
    {
     "name": "stdout",
     "output_type": "stream",
     "text": [
      "3495 3495 3495 3495 3495 3495 3495\n"
     ]
    }
   ],
   "source": [
    "print(len(brand),len(variant),len(trans),len(kms),len(fuel),len(loc),len(price))"
   ]
  },
  {
   "cell_type": "code",
   "execution_count": null,
   "id": "c868a305",
   "metadata": {},
   "outputs": [],
   "source": []
  },
  {
   "cell_type": "markdown",
   "id": "3b5ea0ca",
   "metadata": {},
   "source": [
    "-For Bengaluru location"
   ]
  },
  {
   "cell_type": "code",
   "execution_count": 52,
   "id": "cf9fa64a",
   "metadata": {},
   "outputs": [],
   "source": [
    "driver.get(\"https://www.cardekho.com/used-cars+in+bangalore\")"
   ]
  },
  {
   "cell_type": "code",
   "execution_count": 53,
   "id": "1d45ddbe",
   "metadata": {},
   "outputs": [],
   "source": [
    "actions = ActionChains(driver)\n",
    "for _ in range(5200): # Adjusting for how far down the page we want\n",
    "    actions.send_keys(Keys.ARROW_DOWN).perform()"
   ]
  },
  {
   "cell_type": "code",
   "execution_count": 54,
   "id": "507f31b8",
   "metadata": {},
   "outputs": [],
   "source": [
    "#extracting brand name\n",
    "\n",
    "try:\n",
    "    for i in driver.find_elements_by_xpath('//div[@class=\"gsc_col-xs-7  carsName\"]/a'):      \n",
    "        brand.append(i.text)\n",
    "except NoSuchElementException:\n",
    "    brand.append(np.nan)    \n",
    "\n",
    "#extracting variant\n",
    "\n",
    "try:\n",
    "    for i in driver.find_elements_by_xpath('//div[@class=\"car_variant\"]'):\n",
    "        variant.append(i.text)\n",
    "except NoSuchElementException:\n",
    "    variant.append(np.nan)    \n",
    "\n",
    "#extracting transmission\n",
    "\n",
    "try:\n",
    "    for i in driver.find_elements_by_xpath('//div[@class=\"truncate dotlist-2\"]/div[3]'):\n",
    "        trans.append(i.text)\n",
    "except NoSuchElementException:\n",
    "    trans.append(np.nan)\n",
    "    \n",
    "#extracing kilometers\n",
    "\n",
    "try:\n",
    "    for i in driver.find_elements_by_xpath('//div[@class=\"truncate dotlist-2\"]/div[1]'):\n",
    "        kms.append(i.text.replace('kms',' ').strip())\n",
    "except NoSuchElementException:\n",
    "    kms.append(np.nan)\n",
    "        \n",
    "#extracting fuel\n",
    "    \n",
    "try:\n",
    "    for i in driver.find_elements_by_xpath('//div[@class=\"truncate dotlist-2\"]/div[2]'):\n",
    "        fuel.append(i.text)\n",
    "except NoSuchElementException:\n",
    "    fuel.append(np.nan)\n",
    "    \n",
    "#extratcing price\n",
    "\n",
    "try:\n",
    "    for i in driver.find_elements_by_xpath('//span[@class=\"amnt \"]'):\n",
    "        price.append(i.text.replace('₹',' ').strip())\n",
    "except NoSuchElementException:\n",
    "    price.append(np.nan)"
   ]
  },
  {
   "cell_type": "code",
   "execution_count": 55,
   "id": "ad569523",
   "metadata": {},
   "outputs": [],
   "source": [
    "#so, as this above data is for Banglore location, lets add Banglore to the location data\n",
    "\n",
    "while len(brand)>len(loc):\n",
    "    loc.append('Banglore')"
   ]
  },
  {
   "cell_type": "code",
   "execution_count": 57,
   "id": "cede6442",
   "metadata": {},
   "outputs": [
    {
     "name": "stdout",
     "output_type": "stream",
     "text": [
      "5279 5279 5279 5279 5279 5279 5279\n"
     ]
    }
   ],
   "source": [
    "print(len(brand),len(variant),len(trans),len(kms),len(fuel),len(loc),len(price))"
   ]
  },
  {
   "cell_type": "code",
   "execution_count": null,
   "id": "264c75e7",
   "metadata": {},
   "outputs": [],
   "source": []
  },
  {
   "cell_type": "markdown",
   "id": "2396bc01",
   "metadata": {},
   "source": [
    "-For Hyderabad Location"
   ]
  },
  {
   "cell_type": "code",
   "execution_count": 58,
   "id": "40c3269e",
   "metadata": {},
   "outputs": [],
   "source": [
    "driver.get(\"https://www.cardekho.com/used-cars+in+hyderabad\")"
   ]
  },
  {
   "cell_type": "code",
   "execution_count": 59,
   "id": "18a5e810",
   "metadata": {},
   "outputs": [],
   "source": [
    "actions = ActionChains(driver)\n",
    "for _ in range(2200): # Adjusting for how far down the page we want\n",
    "    actions.send_keys(Keys.ARROW_DOWN).perform()"
   ]
  },
  {
   "cell_type": "code",
   "execution_count": 60,
   "id": "f9846a17",
   "metadata": {},
   "outputs": [],
   "source": [
    "#extracting brand name\n",
    "\n",
    "try:\n",
    "    for i in driver.find_elements_by_xpath('//div[@class=\"gsc_col-xs-7  carsName\"]/a'):      \n",
    "        brand.append(i.text)\n",
    "except NoSuchElementException:\n",
    "    brand.append(np.nan)    \n",
    "\n",
    "#extracting variant\n",
    "\n",
    "try:\n",
    "    for i in driver.find_elements_by_xpath('//div[@class=\"car_variant\"]'):\n",
    "        variant.append(i.text)\n",
    "except NoSuchElementException:\n",
    "    variant.append(np.nan)    \n",
    "\n",
    "#extracting transmission\n",
    "\n",
    "try:\n",
    "    for i in driver.find_elements_by_xpath('//div[@class=\"truncate dotlist-2\"]/div[3]'):\n",
    "        trans.append(i.text)\n",
    "except NoSuchElementException:\n",
    "    trans.append(np.nan)\n",
    "    \n",
    "#extracing kilometers\n",
    "\n",
    "try:\n",
    "    for i in driver.find_elements_by_xpath('//div[@class=\"truncate dotlist-2\"]/div[1]'):\n",
    "        kms.append(i.text.replace('kms',' ').strip())\n",
    "except NoSuchElementException:\n",
    "    kms.append(np.nan)\n",
    "        \n",
    "#extracting fuel\n",
    "    \n",
    "try:\n",
    "    for i in driver.find_elements_by_xpath('//div[@class=\"truncate dotlist-2\"]/div[2]'):\n",
    "        fuel.append(i.text)\n",
    "except NoSuchElementException:\n",
    "    fuel.append(np.nan)\n",
    "    \n",
    "#extratcing price\n",
    "\n",
    "try:\n",
    "    for i in driver.find_elements_by_xpath('//span[@class=\"amnt \"]'):\n",
    "        price.append(i.text.replace('₹',' ').strip())\n",
    "except NoSuchElementException:\n",
    "    price.append(np.nan)"
   ]
  },
  {
   "cell_type": "code",
   "execution_count": 61,
   "id": "2b0d02b3",
   "metadata": {},
   "outputs": [],
   "source": [
    "#so, as this above data is for Hyderabad location, lets add Hyderabad to the location data\n",
    "\n",
    "while len(brand)>len(loc):\n",
    "    loc.append('Hyderabad')"
   ]
  },
  {
   "cell_type": "code",
   "execution_count": 62,
   "id": "7bf47df0",
   "metadata": {},
   "outputs": [
    {
     "name": "stdout",
     "output_type": "stream",
     "text": [
      "6225 6225 6225 6225 6225 6225 6225\n"
     ]
    }
   ],
   "source": [
    "print(len(brand),len(variant),len(trans),len(kms),len(fuel),len(loc),len(price))"
   ]
  },
  {
   "cell_type": "code",
   "execution_count": null,
   "id": "6b28727d",
   "metadata": {},
   "outputs": [],
   "source": []
  },
  {
   "cell_type": "markdown",
   "id": "9a44ce11",
   "metadata": {},
   "source": [
    "-For Chennai Location"
   ]
  },
  {
   "cell_type": "code",
   "execution_count": 63,
   "id": "d4c392d2",
   "metadata": {},
   "outputs": [],
   "source": [
    "driver.get(\"https://www.cardekho.com/used-cars+in+chennai\")"
   ]
  },
  {
   "cell_type": "code",
   "execution_count": 65,
   "id": "a8f02c65",
   "metadata": {},
   "outputs": [],
   "source": [
    "actions = ActionChains(driver)\n",
    "for _ in range(2100): # Adjusting for how far down the page we want\n",
    "    actions.send_keys(Keys.ARROW_DOWN).perform()"
   ]
  },
  {
   "cell_type": "code",
   "execution_count": 66,
   "id": "b37deeef",
   "metadata": {},
   "outputs": [],
   "source": [
    "#extracting brand name\n",
    "\n",
    "try:\n",
    "    for i in driver.find_elements_by_xpath('//div[@class=\"gsc_col-xs-7  carsName\"]/a'):      \n",
    "        brand.append(i.text)\n",
    "except NoSuchElementException:\n",
    "    brand.append(np.nan)    \n",
    "\n",
    "#extracting variant\n",
    "\n",
    "try:\n",
    "    for i in driver.find_elements_by_xpath('//div[@class=\"car_variant\"]'):\n",
    "        variant.append(i.text)\n",
    "except NoSuchElementException:\n",
    "    variant.append(np.nan)    \n",
    "\n",
    "#extracting transmission\n",
    "\n",
    "try:\n",
    "    for i in driver.find_elements_by_xpath('//div[@class=\"truncate dotlist-2\"]/div[3]'):\n",
    "        trans.append(i.text)\n",
    "except NoSuchElementException:\n",
    "    trans.append(np.nan)\n",
    "    \n",
    "#extracing kilometers\n",
    "\n",
    "try:\n",
    "    for i in driver.find_elements_by_xpath('//div[@class=\"truncate dotlist-2\"]/div[1]'):\n",
    "        kms.append(i.text.replace('kms',' ').strip())\n",
    "except NoSuchElementException:\n",
    "    kms.append(np.nan)\n",
    "        \n",
    "#extracting fuel\n",
    "    \n",
    "try:\n",
    "    for i in driver.find_elements_by_xpath('//div[@class=\"truncate dotlist-2\"]/div[2]'):\n",
    "        fuel.append(i.text)\n",
    "except NoSuchElementException:\n",
    "    fuel.append(np.nan)\n",
    "    \n",
    "#extratcing price\n",
    "\n",
    "try:\n",
    "    for i in driver.find_elements_by_xpath('//span[@class=\"amnt \"]'):\n",
    "        price.append(i.text.replace('₹',' ').strip())\n",
    "except NoSuchElementException:\n",
    "    price.append(np.nan)"
   ]
  },
  {
   "cell_type": "code",
   "execution_count": 67,
   "id": "cfdfb5ca",
   "metadata": {},
   "outputs": [],
   "source": [
    "#so, as this above data is for Chennai location, lets add Chennai to the location data\n",
    "\n",
    "while len(brand)>len(loc):\n",
    "    loc.append('Chennai')"
   ]
  },
  {
   "cell_type": "code",
   "execution_count": 68,
   "id": "2735e64c",
   "metadata": {},
   "outputs": [
    {
     "name": "stdout",
     "output_type": "stream",
     "text": [
      "7157 7157 7157 7157 7157 7157 7157\n"
     ]
    }
   ],
   "source": [
    "print(len(brand),len(variant),len(trans),len(kms),len(fuel),len(loc),len(price))"
   ]
  },
  {
   "cell_type": "code",
   "execution_count": null,
   "id": "49752752",
   "metadata": {},
   "outputs": [],
   "source": []
  },
  {
   "cell_type": "markdown",
   "id": "b29ba61a",
   "metadata": {},
   "source": [
    "-For Kolkata Location"
   ]
  },
  {
   "cell_type": "code",
   "execution_count": 70,
   "id": "e663ec8d",
   "metadata": {},
   "outputs": [],
   "source": [
    "driver.get(\"https://www.cardekho.com/used-cars+in+kolkata\")"
   ]
  },
  {
   "cell_type": "code",
   "execution_count": 71,
   "id": "adcac5e4",
   "metadata": {},
   "outputs": [],
   "source": [
    "actions = ActionChains(driver)\n",
    "for _ in range(2000): # Adjusting for how far down the page we want\n",
    "    actions.send_keys(Keys.ARROW_DOWN).perform()"
   ]
  },
  {
   "cell_type": "code",
   "execution_count": 72,
   "id": "3112f0ed",
   "metadata": {},
   "outputs": [],
   "source": [
    "#extracting brand name\n",
    "\n",
    "try:\n",
    "    for i in driver.find_elements_by_xpath('//div[@class=\"gsc_col-xs-7  carsName\"]/a'):      \n",
    "        brand.append(i.text)\n",
    "except NoSuchElementException:\n",
    "    brand.append(np.nan)    \n",
    "\n",
    "#extracting variant\n",
    "\n",
    "try:\n",
    "    for i in driver.find_elements_by_xpath('//div[@class=\"car_variant\"]'):\n",
    "        variant.append(i.text)\n",
    "except NoSuchElementException:\n",
    "    variant.append(np.nan)    \n",
    "\n",
    "#extracting transmission\n",
    "\n",
    "try:\n",
    "    for i in driver.find_elements_by_xpath('//div[@class=\"truncate dotlist-2\"]/div[3]'):\n",
    "        trans.append(i.text)\n",
    "except NoSuchElementException:\n",
    "    trans.append(np.nan)\n",
    "    \n",
    "#extracing kilometers\n",
    "\n",
    "try:\n",
    "    for i in driver.find_elements_by_xpath('//div[@class=\"truncate dotlist-2\"]/div[1]'):\n",
    "        kms.append(i.text.replace('kms',' ').strip())\n",
    "except NoSuchElementException:\n",
    "    kms.append(np.nan)\n",
    "        \n",
    "#extracting fuel\n",
    "    \n",
    "try:\n",
    "    for i in driver.find_elements_by_xpath('//div[@class=\"truncate dotlist-2\"]/div[2]'):\n",
    "        fuel.append(i.text)\n",
    "except NoSuchElementException:\n",
    "    fuel.append(np.nan)\n",
    "    \n",
    "#extratcing price\n",
    "\n",
    "try:\n",
    "    for i in driver.find_elements_by_xpath('//span[@class=\"amnt \"]'):\n",
    "        price.append(i.text.replace('₹',' ').strip())\n",
    "except NoSuchElementException:\n",
    "    price.append(np.nan)"
   ]
  },
  {
   "cell_type": "code",
   "execution_count": 73,
   "id": "b37f7217",
   "metadata": {},
   "outputs": [],
   "source": [
    "#so, as this above data is for Kolkata location, lets add Kolkata to the location data\n",
    "\n",
    "while len(brand)>len(loc):\n",
    "    loc.append('Kolkata')"
   ]
  },
  {
   "cell_type": "code",
   "execution_count": 74,
   "id": "b9ff8aad",
   "metadata": {},
   "outputs": [
    {
     "name": "stdout",
     "output_type": "stream",
     "text": [
      "7942 7942 7942 7942 7942 7942\n"
     ]
    }
   ],
   "source": [
    "print(len(brand),len(variant),len(trans),len(kms),len(fuel),len(price))"
   ]
  },
  {
   "cell_type": "code",
   "execution_count": null,
   "id": "b61c6dce",
   "metadata": {},
   "outputs": [],
   "source": []
  },
  {
   "cell_type": "markdown",
   "id": "0f996c5c",
   "metadata": {},
   "source": [
    "-For Ahemdabad Location"
   ]
  },
  {
   "cell_type": "code",
   "execution_count": 75,
   "id": "2b518823",
   "metadata": {},
   "outputs": [],
   "source": [
    "driver.get(\"https://www.cardekho.com/used-cars+in+ahmedabad\")"
   ]
  },
  {
   "cell_type": "code",
   "execution_count": 76,
   "id": "3b312679",
   "metadata": {},
   "outputs": [],
   "source": [
    "actions = ActionChains(driver)\n",
    "for _ in range(2000): # Adjusting for how far down the page we want\n",
    "    actions.send_keys(Keys.ARROW_DOWN).perform()"
   ]
  },
  {
   "cell_type": "code",
   "execution_count": 77,
   "id": "2c673863",
   "metadata": {},
   "outputs": [],
   "source": [
    "#extracting brand name\n",
    "\n",
    "try:\n",
    "    for i in driver.find_elements_by_xpath('//div[@class=\"gsc_col-xs-7  carsName\"]/a'):      \n",
    "        brand.append(i.text)\n",
    "except NoSuchElementException:\n",
    "    brand.append(np.nan)    \n",
    "\n",
    "#extracting variant\n",
    "\n",
    "try:\n",
    "    for i in driver.find_elements_by_xpath('//div[@class=\"car_variant\"]'):\n",
    "        variant.append(i.text)\n",
    "except NoSuchElementException:\n",
    "    variant.append(np.nan)    \n",
    "\n",
    "#extracting transmission\n",
    "\n",
    "try:\n",
    "    for i in driver.find_elements_by_xpath('//div[@class=\"truncate dotlist-2\"]/div[3]'):\n",
    "        trans.append(i.text)\n",
    "except NoSuchElementException:\n",
    "    trans.append(np.nan)\n",
    "    \n",
    "#extracing kilometers\n",
    "\n",
    "try:\n",
    "    for i in driver.find_elements_by_xpath('//div[@class=\"truncate dotlist-2\"]/div[1]'):\n",
    "        kms.append(i.text.replace('kms',' ').strip())\n",
    "except NoSuchElementException:\n",
    "    kms.append(np.nan)\n",
    "        \n",
    "#extracting fuel\n",
    "    \n",
    "try:\n",
    "    for i in driver.find_elements_by_xpath('//div[@class=\"truncate dotlist-2\"]/div[2]'):\n",
    "        fuel.append(i.text)\n",
    "except NoSuchElementException:\n",
    "    fuel.append(np.nan)\n",
    "    \n",
    "#extratcing price\n",
    "\n",
    "try:\n",
    "    for i in driver.find_elements_by_xpath('//span[@class=\"amnt \"]'):\n",
    "        price.append(i.text.replace('₹',' ').strip())\n",
    "except NoSuchElementException:\n",
    "    price.append(np.nan)"
   ]
  },
  {
   "cell_type": "code",
   "execution_count": 78,
   "id": "063e9377",
   "metadata": {},
   "outputs": [],
   "source": [
    "#so, as this above data is for Ahemdabad location, lets add Ahemdabad to the location data\n",
    "\n",
    "while len(brand)>len(loc):\n",
    "    loc.append('Ahemdabad')"
   ]
  },
  {
   "cell_type": "code",
   "execution_count": 79,
   "id": "5757ceea",
   "metadata": {},
   "outputs": [
    {
     "name": "stdout",
     "output_type": "stream",
     "text": [
      "8754 8754 8754 8754 8754 8754 8754\n"
     ]
    }
   ],
   "source": [
    "print(len(brand),len(variant),len(trans),len(kms),len(fuel),len(loc),len(price))"
   ]
  },
  {
   "cell_type": "code",
   "execution_count": null,
   "id": "87d411eb",
   "metadata": {},
   "outputs": [],
   "source": []
  },
  {
   "cell_type": "markdown",
   "id": "a6b7f57d",
   "metadata": {},
   "source": [
    "-For Chandigarh Location"
   ]
  },
  {
   "cell_type": "code",
   "execution_count": 80,
   "id": "0ba7d652",
   "metadata": {},
   "outputs": [],
   "source": [
    "driver.get(\"https://www.cardekho.com/used-cars+in+chandigarh\")"
   ]
  },
  {
   "cell_type": "code",
   "execution_count": 81,
   "id": "e057e024",
   "metadata": {},
   "outputs": [],
   "source": [
    "actions = ActionChains(driver)\n",
    "for _ in range(500): # Adjusting for how far down the page we want\n",
    "    actions.send_keys(Keys.ARROW_DOWN).perform()"
   ]
  },
  {
   "cell_type": "code",
   "execution_count": 82,
   "id": "f64a9932",
   "metadata": {},
   "outputs": [],
   "source": [
    "#extracting brand name\n",
    "\n",
    "try:\n",
    "    for i in driver.find_elements_by_xpath('//div[@class=\"gsc_col-xs-7  carsName\"]/a'):      \n",
    "        brand.append(i.text)\n",
    "except NoSuchElementException:\n",
    "    brand.append(np.nan)    \n",
    "\n",
    "#extracting variant\n",
    "\n",
    "try:\n",
    "    for i in driver.find_elements_by_xpath('//div[@class=\"car_variant\"]'):\n",
    "        variant.append(i.text)\n",
    "except NoSuchElementException:\n",
    "    variant.append(np.nan)    \n",
    "\n",
    "#extracting transmission\n",
    "\n",
    "try:\n",
    "    for i in driver.find_elements_by_xpath('//div[@class=\"truncate dotlist-2\"]/div[3]'):\n",
    "        trans.append(i.text)\n",
    "except NoSuchElementException:\n",
    "    trans.append(np.nan)\n",
    "    \n",
    "#extracing kilometers\n",
    "\n",
    "try:\n",
    "    for i in driver.find_elements_by_xpath('//div[@class=\"truncate dotlist-2\"]/div[1]'):\n",
    "        kms.append(i.text.replace('kms',' ').strip())\n",
    "except NoSuchElementException:\n",
    "    kms.append(np.nan)\n",
    "        \n",
    "#extracting fuel\n",
    "    \n",
    "try:\n",
    "    for i in driver.find_elements_by_xpath('//div[@class=\"truncate dotlist-2\"]/div[2]'):\n",
    "        fuel.append(i.text)\n",
    "except NoSuchElementException:\n",
    "    fuel.append(np.nan)\n",
    "    \n",
    "#extratcing price\n",
    "\n",
    "try:\n",
    "    for i in driver.find_elements_by_xpath('//span[@class=\"amnt \"]'):\n",
    "        price.append(i.text.replace('₹',' ').strip())\n",
    "except NoSuchElementException:\n",
    "    price.append(np.nan)"
   ]
  },
  {
   "cell_type": "code",
   "execution_count": 83,
   "id": "02f51801",
   "metadata": {},
   "outputs": [],
   "source": [
    "#so, as this above data is for Chandigarh location, lets add Chandigarh to the location data\n",
    "\n",
    "while len(brand)>len(loc):\n",
    "    loc.append('Chandigarh')"
   ]
  },
  {
   "cell_type": "code",
   "execution_count": 84,
   "id": "c1e3cb6f",
   "metadata": {},
   "outputs": [
    {
     "name": "stdout",
     "output_type": "stream",
     "text": [
      "8934 8934 8934 8934 8934 8934 8934\n"
     ]
    }
   ],
   "source": [
    "print(len(brand),len(variant),len(trans),len(kms),len(fuel),len(loc),len(price))"
   ]
  },
  {
   "cell_type": "code",
   "execution_count": null,
   "id": "6234424f",
   "metadata": {},
   "outputs": [],
   "source": []
  },
  {
   "cell_type": "markdown",
   "id": "943784e0",
   "metadata": {},
   "source": [
    "-For Jaipur Location"
   ]
  },
  {
   "cell_type": "code",
   "execution_count": 85,
   "id": "8acee2cf",
   "metadata": {},
   "outputs": [],
   "source": [
    "driver.get(\"https://www.cardekho.com/used-cars+in+jaipur\")"
   ]
  },
  {
   "cell_type": "code",
   "execution_count": 86,
   "id": "cb652140",
   "metadata": {},
   "outputs": [],
   "source": [
    "actions = ActionChains(driver)\n",
    "for _ in range(1500): # Adjusting for how far down the page we want\n",
    "    actions.send_keys(Keys.ARROW_DOWN).perform()"
   ]
  },
  {
   "cell_type": "code",
   "execution_count": 87,
   "id": "263bd702",
   "metadata": {},
   "outputs": [],
   "source": [
    "#extracting brand name\n",
    "\n",
    "try:\n",
    "    for i in driver.find_elements_by_xpath('//div[@class=\"gsc_col-xs-7  carsName\"]/a'):      \n",
    "        brand.append(i.text)\n",
    "except NoSuchElementException:\n",
    "    brand.append(np.nan)    \n",
    "\n",
    "#extracting variant\n",
    "\n",
    "try:\n",
    "    for i in driver.find_elements_by_xpath('//div[@class=\"car_variant\"]'):\n",
    "        variant.append(i.text)\n",
    "except NoSuchElementException:\n",
    "    variant.append(np.nan)    \n",
    "\n",
    "#extracting transmission\n",
    "\n",
    "try:\n",
    "    for i in driver.find_elements_by_xpath('//div[@class=\"truncate dotlist-2\"]/div[3]'):\n",
    "        trans.append(i.text)\n",
    "except NoSuchElementException:\n",
    "    trans.append(np.nan)\n",
    "    \n",
    "#extracing kilometers\n",
    "\n",
    "try:\n",
    "    for i in driver.find_elements_by_xpath('//div[@class=\"truncate dotlist-2\"]/div[1]'):\n",
    "        kms.append(i.text.replace('kms',' ').strip())\n",
    "except NoSuchElementException:\n",
    "    kms.append(np.nan)\n",
    "        \n",
    "#extracting fuel\n",
    "    \n",
    "try:\n",
    "    for i in driver.find_elements_by_xpath('//div[@class=\"truncate dotlist-2\"]/div[2]'):\n",
    "        fuel.append(i.text)\n",
    "except NoSuchElementException:\n",
    "    fuel.append(np.nan)\n",
    "    \n",
    "#extratcing price\n",
    "\n",
    "try:\n",
    "    for i in driver.find_elements_by_xpath('//span[@class=\"amnt \"]'):\n",
    "        price.append(i.text.replace('₹',' ').strip())\n",
    "except NoSuchElementException:\n",
    "    price.append(np.nan)"
   ]
  },
  {
   "cell_type": "code",
   "execution_count": 88,
   "id": "61a4d724",
   "metadata": {},
   "outputs": [],
   "source": [
    "#so, as this above data is for Jaipur location, lets add Jaipur to the location data\n",
    "\n",
    "while len(brand)>len(loc):\n",
    "    loc.append('Jaipur')"
   ]
  },
  {
   "cell_type": "code",
   "execution_count": 89,
   "id": "27c99d96",
   "metadata": {},
   "outputs": [
    {
     "name": "stdout",
     "output_type": "stream",
     "text": [
      "9545 9545 9545 9545 9545 9545 9545\n"
     ]
    }
   ],
   "source": [
    "print(len(brand),len(variant),len(trans),len(kms),len(fuel),len(loc),len(price))"
   ]
  },
  {
   "cell_type": "code",
   "execution_count": null,
   "id": "09b39f62",
   "metadata": {},
   "outputs": [],
   "source": []
  },
  {
   "cell_type": "markdown",
   "id": "f90c4626",
   "metadata": {},
   "source": [
    "-For Lucknow Location"
   ]
  },
  {
   "cell_type": "code",
   "execution_count": 90,
   "id": "7ef60e8a",
   "metadata": {},
   "outputs": [],
   "source": [
    "driver.get(\"https://www.cardekho.com/used-cars+in+lucknow\")"
   ]
  },
  {
   "cell_type": "code",
   "execution_count": 91,
   "id": "874ece2b",
   "metadata": {},
   "outputs": [],
   "source": [
    "actions = ActionChains(driver)\n",
    "for _ in range(700): # Adjusting for how far down the page we want\n",
    "    actions.send_keys(Keys.ARROW_DOWN).perform()"
   ]
  },
  {
   "cell_type": "code",
   "execution_count": 92,
   "id": "18e9b6a5",
   "metadata": {},
   "outputs": [],
   "source": [
    "#extracting brand name\n",
    "\n",
    "try:\n",
    "    for i in driver.find_elements_by_xpath('//div[@class=\"gsc_col-xs-7  carsName\"]/a'):      \n",
    "        brand.append(i.text)\n",
    "except NoSuchElementException:\n",
    "    brand.append(np.nan)    \n",
    "\n",
    "#extracting variant\n",
    "\n",
    "try:\n",
    "    for i in driver.find_elements_by_xpath('//div[@class=\"car_variant\"]'):\n",
    "        variant.append(i.text)\n",
    "except NoSuchElementException:\n",
    "    variant.append(np.nan)    \n",
    "\n",
    "#extracting transmission\n",
    "\n",
    "try:\n",
    "    for i in driver.find_elements_by_xpath('//div[@class=\"truncate dotlist-2\"]/div[3]'):\n",
    "        trans.append(i.text)\n",
    "except NoSuchElementException:\n",
    "    trans.append(np.nan)\n",
    "    \n",
    "#extracing kilometers\n",
    "\n",
    "try:\n",
    "    for i in driver.find_elements_by_xpath('//div[@class=\"truncate dotlist-2\"]/div[1]'):\n",
    "        kms.append(i.text.replace('kms',' ').strip())\n",
    "except NoSuchElementException:\n",
    "    kms.append(np.nan)\n",
    "        \n",
    "#extracting fuel\n",
    "    \n",
    "try:\n",
    "    for i in driver.find_elements_by_xpath('//div[@class=\"truncate dotlist-2\"]/div[2]'):\n",
    "        fuel.append(i.text)\n",
    "except NoSuchElementException:\n",
    "    fuel.append(np.nan)\n",
    "    \n",
    "#extratcing price\n",
    "\n",
    "try:\n",
    "    for i in driver.find_elements_by_xpath('//span[@class=\"amnt \"]'):\n",
    "        price.append(i.text.replace('₹',' ').strip())\n",
    "except NoSuchElementException:\n",
    "    price.append(np.nan)"
   ]
  },
  {
   "cell_type": "code",
   "execution_count": 93,
   "id": "202cc98a",
   "metadata": {},
   "outputs": [],
   "source": [
    "#so, as this above data is for Lucknow location, lets add Lucknow to the location data\n",
    "\n",
    "while len(brand)>len(loc):\n",
    "    loc.append('Lucknow')"
   ]
  },
  {
   "cell_type": "code",
   "execution_count": 94,
   "id": "37732965",
   "metadata": {},
   "outputs": [
    {
     "name": "stdout",
     "output_type": "stream",
     "text": [
      "9855 9855 9855 9855 9855 9855 9855\n"
     ]
    }
   ],
   "source": [
    "print(len(brand),len(variant),len(trans),len(kms),len(fuel),len(loc),len(price))"
   ]
  },
  {
   "cell_type": "code",
   "execution_count": null,
   "id": "78021d7f",
   "metadata": {},
   "outputs": [],
   "source": []
  },
  {
   "cell_type": "markdown",
   "id": "5f566a90",
   "metadata": {},
   "source": [
    "-For Agra Location"
   ]
  },
  {
   "cell_type": "code",
   "execution_count": 95,
   "id": "06ea2d94",
   "metadata": {},
   "outputs": [],
   "source": [
    "#loading webpage on automated window\n",
    "\n",
    "driver.get(\"https://www.cardekho.com/used-cars+in+agra\")"
   ]
  },
  {
   "cell_type": "code",
   "execution_count": 96,
   "id": "845c0da2",
   "metadata": {},
   "outputs": [],
   "source": [
    "actions = ActionChains(driver)\n",
    "for _ in range(500): # Adjusting for how far down the page we want\n",
    "    actions.send_keys(Keys.ARROW_DOWN).perform()"
   ]
  },
  {
   "cell_type": "code",
   "execution_count": 97,
   "id": "79b02ebd",
   "metadata": {},
   "outputs": [],
   "source": [
    "#extracting brand name\n",
    "\n",
    "try:\n",
    "    for i in driver.find_elements_by_xpath('//div[@class=\"gsc_col-xs-7  carsName\"]/a'):      \n",
    "        brand.append(i.text)\n",
    "except NoSuchElementException:\n",
    "    brand.append(np.nan)    \n",
    "\n",
    "#extracting variant\n",
    "\n",
    "try:\n",
    "    for i in driver.find_elements_by_xpath('//div[@class=\"car_variant\"]'):\n",
    "        variant.append(i.text)\n",
    "except NoSuchElementException:\n",
    "    variant.append(np.nan)    \n",
    "\n",
    "#extracting transmission\n",
    "\n",
    "try:\n",
    "    for i in driver.find_elements_by_xpath('//div[@class=\"truncate dotlist-2\"]/div[3]'):\n",
    "        trans.append(i.text)\n",
    "except NoSuchElementException:\n",
    "    trans.append(np.nan)\n",
    "    \n",
    "#extracing kilometers\n",
    "\n",
    "try:\n",
    "    for i in driver.find_elements_by_xpath('//div[@class=\"truncate dotlist-2\"]/div[1]'):\n",
    "        kms.append(i.text.replace('kms',' ').strip())\n",
    "except NoSuchElementException:\n",
    "    kms.append(np.nan)\n",
    "        \n",
    "#extracting fuel\n",
    "    \n",
    "try:\n",
    "    for i in driver.find_elements_by_xpath('//div[@class=\"truncate dotlist-2\"]/div[2]'):\n",
    "        fuel.append(i.text)\n",
    "except NoSuchElementException:\n",
    "    fuel.append(np.nan)\n",
    "    \n",
    "#extratcing price\n",
    "\n",
    "try:\n",
    "    for i in driver.find_elements_by_xpath('//span[@class=\"amnt \"]'):\n",
    "        price.append(i.text.replace('₹',' ').strip())\n",
    "except NoSuchElementException:\n",
    "    price.append(np.nan)"
   ]
  },
  {
   "cell_type": "code",
   "execution_count": 98,
   "id": "db8d71a5",
   "metadata": {},
   "outputs": [],
   "source": [
    "#so, as this above data is for Agra location, lets add Agra to the location data\n",
    "\n",
    "while len(brand)>len(loc):\n",
    "    loc.append('Agra')"
   ]
  },
  {
   "cell_type": "code",
   "execution_count": 99,
   "id": "f3d72b19",
   "metadata": {},
   "outputs": [
    {
     "name": "stdout",
     "output_type": "stream",
     "text": [
      "10028 10028 10028 10028 10028 10028 10028\n"
     ]
    }
   ],
   "source": [
    "print(len(brand),len(variant),len(trans),len(kms),len(fuel),len(loc),len(price))"
   ]
  },
  {
   "cell_type": "code",
   "execution_count": 100,
   "id": "1c9d122e",
   "metadata": {},
   "outputs": [],
   "source": [
    "#from brand data we are going to create two data one is Model year and other one is model name\n",
    "\n",
    "year = [i[:4] for i in brand]\n",
    "model = [i[5:] for i in brand]"
   ]
  },
  {
   "cell_type": "code",
   "execution_count": 101,
   "id": "940cdf89",
   "metadata": {},
   "outputs": [
    {
     "name": "stdout",
     "output_type": "stream",
     "text": [
      "10028 10028 10028 10028 10028 10028 10028 10028\n"
     ]
    }
   ],
   "source": [
    "print(len(model),len(year),len(variant),len(trans),len(kms),len(fuel),len(loc),len(price))"
   ]
  },
  {
   "cell_type": "code",
   "execution_count": null,
   "id": "db89ac9e",
   "metadata": {
    "scrolled": false
   },
   "outputs": [],
   "source": [
    "#forming a dataframe for the extracted data\n",
    "\n",
    "df=pd.DataFrame({'ModelName':model,'Variant':variant,'TransmissionType':trans,'FuelType':fuel,'ModelYear':year,'KilometersDriven':kms,'SalePrice':price,'Location':loc})\n",
    "\n",
    "df=df.style.set_caption(\"USED CARS AVAILABLE FOR SALE FROM VARIOUS LOCATIONS\")\n",
    "df"
   ]
  },
  {
   "cell_type": "code",
   "execution_count": 103,
   "id": "9a52383a",
   "metadata": {},
   "outputs": [],
   "source": [
    "df.to_excel('usedcarsdata.xlsx')         #saving to an excel file"
   ]
  },
  {
   "cell_type": "code",
   "execution_count": 104,
   "id": "e5a2b2e8",
   "metadata": {},
   "outputs": [],
   "source": [
    "#closing the driver\n",
    "\n",
    "driver.close()"
   ]
  },
  {
   "cell_type": "code",
   "execution_count": null,
   "id": "75dc4510",
   "metadata": {},
   "outputs": [],
   "source": []
  }
 ],
 "metadata": {
  "kernelspec": {
   "display_name": "Python 3 (ipykernel)",
   "language": "python",
   "name": "python3"
  },
  "language_info": {
   "codemirror_mode": {
    "name": "ipython",
    "version": 3
   },
   "file_extension": ".py",
   "mimetype": "text/x-python",
   "name": "python",
   "nbconvert_exporter": "python",
   "pygments_lexer": "ipython3",
   "version": "3.9.7"
  }
 },
 "nbformat": 4,
 "nbformat_minor": 5
}

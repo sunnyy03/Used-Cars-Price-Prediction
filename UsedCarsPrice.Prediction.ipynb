{
 "cells": [
  {
   "cell_type": "markdown",
   "id": "3efe3fa5",
   "metadata": {},
   "source": [
    "Problem statement:\n",
    "\n",
    "-To build a machine learning model which predicts the sale price of a used car"
   ]
  },
  {
   "cell_type": "code",
   "execution_count": 1,
   "id": "c66cc889",
   "metadata": {},
   "outputs": [],
   "source": [
    "#linear algebra\n",
    "\n",
    "import numpy as np\n",
    "\n",
    "#data processing\n",
    "\n",
    "import pandas as pd\n",
    "\n",
    "#data visualization\n",
    "\n",
    "import seaborn as sns\n",
    "import matplotlib.pyplot as plt\n",
    "import warnings\n",
    "warnings.filterwarnings('ignore')\n",
    "\n",
    "#algorithms\n",
    "\n",
    "from sklearn.linear_model import LinearRegression,Lasso,Ridge\n",
    "from sklearn.tree import DecisionTreeRegressor\n",
    "from sklearn.neighbors import KNeighborsRegressor\n",
    "from sklearn.svm import SVC\n",
    "from sklearn.ensemble import RandomForestRegressor , AdaBoostRegressor , GradientBoostingRegressor\n",
    "from xgboost import XGBRegressor\n",
    "\n",
    "#importing metrics\n",
    "\n",
    "from sklearn.model_selection import train_test_split,cross_val_score\n",
    "from sklearn.metrics import r2_score,mean_squared_error,mean_absolute_error,mean_squared_log_error"
   ]
  },
  {
   "cell_type": "code",
   "execution_count": 2,
   "id": "27424bfa",
   "metadata": {},
   "outputs": [
    {
     "name": "stdout",
     "output_type": "stream",
     "text": [
      "(10028, 9)\n"
     ]
    }
   ],
   "source": [
    "#loading the data\n",
    "\n",
    "df = pd.read_excel(\"usedcarsdata.xlsx\")\n",
    "                       \n",
    "print(df.shape)"
   ]
  },
  {
   "cell_type": "code",
   "execution_count": 3,
   "id": "8a39b124",
   "metadata": {},
   "outputs": [
    {
     "data": {
      "text/html": [
       "<div>\n",
       "<style scoped>\n",
       "    .dataframe tbody tr th:only-of-type {\n",
       "        vertical-align: middle;\n",
       "    }\n",
       "\n",
       "    .dataframe tbody tr th {\n",
       "        vertical-align: top;\n",
       "    }\n",
       "\n",
       "    .dataframe thead th {\n",
       "        text-align: right;\n",
       "    }\n",
       "</style>\n",
       "<table border=\"1\" class=\"dataframe\">\n",
       "  <thead>\n",
       "    <tr style=\"text-align: right;\">\n",
       "      <th></th>\n",
       "      <th>Unnamed: 0</th>\n",
       "      <th>ModelName</th>\n",
       "      <th>Variant</th>\n",
       "      <th>TransmissionType</th>\n",
       "      <th>FuelType</th>\n",
       "      <th>ModelYear</th>\n",
       "      <th>KilometersDriven</th>\n",
       "      <th>SalePrice</th>\n",
       "      <th>Location</th>\n",
       "    </tr>\n",
       "  </thead>\n",
       "  <tbody>\n",
       "    <tr>\n",
       "      <th>2424</th>\n",
       "      <td>2424</td>\n",
       "      <td>Mahindra Quanto</td>\n",
       "      <td>C6</td>\n",
       "      <td>Manual</td>\n",
       "      <td>Diesel</td>\n",
       "      <td>2012</td>\n",
       "      <td>81,000</td>\n",
       "      <td>3.51 Lakh</td>\n",
       "      <td>Mumbai</td>\n",
       "    </tr>\n",
       "    <tr>\n",
       "      <th>4618</th>\n",
       "      <td>4618</td>\n",
       "      <td>Mahindra XUV500</td>\n",
       "      <td>W5 BSIV</td>\n",
       "      <td>Manual</td>\n",
       "      <td>Diesel</td>\n",
       "      <td>2019</td>\n",
       "      <td>29,000</td>\n",
       "      <td>14.50 Lakh</td>\n",
       "      <td>Banglore</td>\n",
       "    </tr>\n",
       "    <tr>\n",
       "      <th>513</th>\n",
       "      <td>513</td>\n",
       "      <td>BMW 7 Series</td>\n",
       "      <td>730Ld M Sport</td>\n",
       "      <td>Automatic</td>\n",
       "      <td>Diesel</td>\n",
       "      <td>2020</td>\n",
       "      <td>18,000</td>\n",
       "      <td>1.05 Cr</td>\n",
       "      <td>Delhi/NCR</td>\n",
       "    </tr>\n",
       "    <tr>\n",
       "      <th>5006</th>\n",
       "      <td>5006</td>\n",
       "      <td>Maruti Swift Dzire</td>\n",
       "      <td>VXI 1.2</td>\n",
       "      <td>Manual</td>\n",
       "      <td>Petrol</td>\n",
       "      <td>2019</td>\n",
       "      <td>54,919</td>\n",
       "      <td>7.55 Lakh</td>\n",
       "      <td>Banglore</td>\n",
       "    </tr>\n",
       "    <tr>\n",
       "      <th>9368</th>\n",
       "      <td>9368</td>\n",
       "      <td>MG Hector</td>\n",
       "      <td>Sharp DCT</td>\n",
       "      <td>Automatic</td>\n",
       "      <td>Petrol</td>\n",
       "      <td>2020</td>\n",
       "      <td>3,800</td>\n",
       "      <td>19.95 Lakh</td>\n",
       "      <td>Jaipur</td>\n",
       "    </tr>\n",
       "    <tr>\n",
       "      <th>9987</th>\n",
       "      <td>9987</td>\n",
       "      <td>Maruti Ignis</td>\n",
       "      <td>1.2 Delta BSIV</td>\n",
       "      <td>Manual</td>\n",
       "      <td>Petrol</td>\n",
       "      <td>2018</td>\n",
       "      <td>20,000</td>\n",
       "      <td>4.80 Lakh</td>\n",
       "      <td>Agra</td>\n",
       "    </tr>\n",
       "    <tr>\n",
       "      <th>5175</th>\n",
       "      <td>5175</td>\n",
       "      <td>Mercedes-Benz C-Class</td>\n",
       "      <td>C 250 CDI Elegance</td>\n",
       "      <td>Automatic</td>\n",
       "      <td>Diesel</td>\n",
       "      <td>2010</td>\n",
       "      <td>74,000</td>\n",
       "      <td>11.25 Lakh</td>\n",
       "      <td>Banglore</td>\n",
       "    </tr>\n",
       "    <tr>\n",
       "      <th>159</th>\n",
       "      <td>159</td>\n",
       "      <td>Maruti Swift Dzire</td>\n",
       "      <td>AMT ZDI</td>\n",
       "      <td>Automatic</td>\n",
       "      <td>Diesel</td>\n",
       "      <td>2016</td>\n",
       "      <td>78,630</td>\n",
       "      <td>5.19 Lakh</td>\n",
       "      <td>Delhi/NCR</td>\n",
       "    </tr>\n",
       "    <tr>\n",
       "      <th>5789</th>\n",
       "      <td>5789</td>\n",
       "      <td>Maruti Ciaz</td>\n",
       "      <td>VDi Plus SHVS</td>\n",
       "      <td>Manual</td>\n",
       "      <td>Diesel</td>\n",
       "      <td>2016</td>\n",
       "      <td>66,000</td>\n",
       "      <td>5.25 Lakh</td>\n",
       "      <td>Hyderabad</td>\n",
       "    </tr>\n",
       "    <tr>\n",
       "      <th>319</th>\n",
       "      <td>319</td>\n",
       "      <td>Maruti Celerio</td>\n",
       "      <td>ZXI</td>\n",
       "      <td>Manual</td>\n",
       "      <td>Petrol</td>\n",
       "      <td>2015</td>\n",
       "      <td>83,206</td>\n",
       "      <td>3.30 Lakh</td>\n",
       "      <td>Delhi/NCR</td>\n",
       "    </tr>\n",
       "  </tbody>\n",
       "</table>\n",
       "</div>"
      ],
      "text/plain": [
       "      Unnamed: 0              ModelName             Variant TransmissionType  \\\n",
       "2424        2424        Mahindra Quanto                  C6           Manual   \n",
       "4618        4618        Mahindra XUV500             W5 BSIV           Manual   \n",
       "513          513           BMW 7 Series       730Ld M Sport        Automatic   \n",
       "5006        5006     Maruti Swift Dzire             VXI 1.2           Manual   \n",
       "9368        9368              MG Hector           Sharp DCT        Automatic   \n",
       "9987        9987           Maruti Ignis      1.2 Delta BSIV           Manual   \n",
       "5175        5175  Mercedes-Benz C-Class  C 250 CDI Elegance        Automatic   \n",
       "159          159     Maruti Swift Dzire             AMT ZDI        Automatic   \n",
       "5789        5789            Maruti Ciaz       VDi Plus SHVS           Manual   \n",
       "319          319         Maruti Celerio                 ZXI           Manual   \n",
       "\n",
       "     FuelType  ModelYear KilometersDriven   SalePrice   Location  \n",
       "2424   Diesel       2012           81,000   3.51 Lakh     Mumbai  \n",
       "4618   Diesel       2019           29,000  14.50 Lakh   Banglore  \n",
       "513    Diesel       2020           18,000     1.05 Cr  Delhi/NCR  \n",
       "5006   Petrol       2019           54,919   7.55 Lakh   Banglore  \n",
       "9368   Petrol       2020            3,800  19.95 Lakh     Jaipur  \n",
       "9987   Petrol       2018           20,000   4.80 Lakh       Agra  \n",
       "5175   Diesel       2010           74,000  11.25 Lakh   Banglore  \n",
       "159    Diesel       2016           78,630   5.19 Lakh  Delhi/NCR  \n",
       "5789   Diesel       2016           66,000   5.25 Lakh  Hyderabad  \n",
       "319    Petrol       2015           83,206   3.30 Lakh  Delhi/NCR  "
      ]
     },
     "execution_count": 3,
     "metadata": {},
     "output_type": "execute_result"
    }
   ],
   "source": [
    "df.sample(10)"
   ]
  },
  {
   "cell_type": "markdown",
   "id": "1e0b037b",
   "metadata": {},
   "source": [
    "# Data Cleaning:"
   ]
  },
  {
   "cell_type": "markdown",
   "id": "2dd7c2a8",
   "metadata": {},
   "source": [
    "- So first we are going to remove the unnamed column, as it is totally unnecessary.\n",
    "- Then we are going to look out for missing values and replace them accordingly.\n",
    "- Afterwards we are going to check out for datatypes of the variables and do the necessary modification"
   ]
  },
  {
   "cell_type": "code",
   "execution_count": 4,
   "id": "d41225d9",
   "metadata": {},
   "outputs": [
    {
     "data": {
      "text/html": [
       "<div>\n",
       "<style scoped>\n",
       "    .dataframe tbody tr th:only-of-type {\n",
       "        vertical-align: middle;\n",
       "    }\n",
       "\n",
       "    .dataframe tbody tr th {\n",
       "        vertical-align: top;\n",
       "    }\n",
       "\n",
       "    .dataframe thead th {\n",
       "        text-align: right;\n",
       "    }\n",
       "</style>\n",
       "<table border=\"1\" class=\"dataframe\">\n",
       "  <thead>\n",
       "    <tr style=\"text-align: right;\">\n",
       "      <th></th>\n",
       "      <th>ModelName</th>\n",
       "      <th>Variant</th>\n",
       "      <th>TransmissionType</th>\n",
       "      <th>FuelType</th>\n",
       "      <th>ModelYear</th>\n",
       "      <th>KilometersDriven</th>\n",
       "      <th>SalePrice</th>\n",
       "      <th>Location</th>\n",
       "    </tr>\n",
       "  </thead>\n",
       "  <tbody>\n",
       "    <tr>\n",
       "      <th>6465</th>\n",
       "      <td>Honda Jazz</td>\n",
       "      <td>1.2 S i VTEC</td>\n",
       "      <td>Manual</td>\n",
       "      <td>Petrol</td>\n",
       "      <td>2015</td>\n",
       "      <td>24,000</td>\n",
       "      <td>5.95 Lakh</td>\n",
       "      <td>Chennai</td>\n",
       "    </tr>\n",
       "  </tbody>\n",
       "</table>\n",
       "</div>"
      ],
      "text/plain": [
       "       ModelName       Variant TransmissionType FuelType  ModelYear  \\\n",
       "6465  Honda Jazz  1.2 S i VTEC           Manual   Petrol       2015   \n",
       "\n",
       "     KilometersDriven  SalePrice Location  \n",
       "6465           24,000  5.95 Lakh  Chennai  "
      ]
     },
     "execution_count": 4,
     "metadata": {},
     "output_type": "execute_result"
    }
   ],
   "source": [
    "df.drop('Unnamed: 0',axis=1,inplace=True)\n",
    "df.sample()"
   ]
  },
  {
   "cell_type": "code",
   "execution_count": 5,
   "id": "1daa6820",
   "metadata": {},
   "outputs": [
    {
     "data": {
      "text/html": [
       "<div>\n",
       "<style scoped>\n",
       "    .dataframe tbody tr th:only-of-type {\n",
       "        vertical-align: middle;\n",
       "    }\n",
       "\n",
       "    .dataframe tbody tr th {\n",
       "        vertical-align: top;\n",
       "    }\n",
       "\n",
       "    .dataframe thead th {\n",
       "        text-align: right;\n",
       "    }\n",
       "</style>\n",
       "<table border=\"1\" class=\"dataframe\">\n",
       "  <thead>\n",
       "    <tr style=\"text-align: right;\">\n",
       "      <th></th>\n",
       "      <th>ModelName</th>\n",
       "      <th>Variant</th>\n",
       "      <th>TransmissionType</th>\n",
       "      <th>FuelType</th>\n",
       "      <th>ModelYear</th>\n",
       "      <th>KilometersDriven</th>\n",
       "      <th>SalePrice</th>\n",
       "      <th>Location</th>\n",
       "    </tr>\n",
       "  </thead>\n",
       "  <tbody>\n",
       "    <tr>\n",
       "      <th>168</th>\n",
       "      <td>Maruti Swift</td>\n",
       "      <td>ZXI BSIV</td>\n",
       "      <td>Manual</td>\n",
       "      <td>Petrol</td>\n",
       "      <td>2016</td>\n",
       "      <td>87,436</td>\n",
       "      <td>4.91 Lakh</td>\n",
       "      <td>Delhi/NCR</td>\n",
       "    </tr>\n",
       "    <tr>\n",
       "      <th>266</th>\n",
       "      <td>Renault Duster</td>\n",
       "      <td>85PS Diesel RxL Optional</td>\n",
       "      <td>Manual</td>\n",
       "      <td>Diesel</td>\n",
       "      <td>2012</td>\n",
       "      <td>1,37,227</td>\n",
       "      <td>2.65 Lakh</td>\n",
       "      <td>Delhi/NCR</td>\n",
       "    </tr>\n",
       "    <tr>\n",
       "      <th>268</th>\n",
       "      <td>Maruti Swift</td>\n",
       "      <td>AMT ZXI</td>\n",
       "      <td>Automatic</td>\n",
       "      <td>Petrol</td>\n",
       "      <td>2018</td>\n",
       "      <td>77,283</td>\n",
       "      <td>5.65 Lakh</td>\n",
       "      <td>Delhi/NCR</td>\n",
       "    </tr>\n",
       "    <tr>\n",
       "      <th>360</th>\n",
       "      <td>Ford Ecosport</td>\n",
       "      <td>1.5 Diesel Ambiente BSIV</td>\n",
       "      <td>Manual</td>\n",
       "      <td>Diesel</td>\n",
       "      <td>2020</td>\n",
       "      <td>24,000</td>\n",
       "      <td>8.30 Lakh</td>\n",
       "      <td>Delhi/NCR</td>\n",
       "    </tr>\n",
       "    <tr>\n",
       "      <th>400</th>\n",
       "      <td>BMW 3 Series GT</td>\n",
       "      <td>Luxury Line</td>\n",
       "      <td>Automatic</td>\n",
       "      <td>Diesel</td>\n",
       "      <td>2018</td>\n",
       "      <td>10,110</td>\n",
       "      <td>36.99 Lakh</td>\n",
       "      <td>Delhi/NCR</td>\n",
       "    </tr>\n",
       "    <tr>\n",
       "      <th>...</th>\n",
       "      <td>...</td>\n",
       "      <td>...</td>\n",
       "      <td>...</td>\n",
       "      <td>...</td>\n",
       "      <td>...</td>\n",
       "      <td>...</td>\n",
       "      <td>...</td>\n",
       "      <td>...</td>\n",
       "    </tr>\n",
       "    <tr>\n",
       "      <th>7197</th>\n",
       "      <td>Renault Duster</td>\n",
       "      <td>Petrol RXS CVT</td>\n",
       "      <td>Automatic</td>\n",
       "      <td>Petrol</td>\n",
       "      <td>2017</td>\n",
       "      <td>20,462</td>\n",
       "      <td>6.94 Lakh</td>\n",
       "      <td>Kolkata</td>\n",
       "    </tr>\n",
       "    <tr>\n",
       "      <th>7527</th>\n",
       "      <td>Maruti Ciaz</td>\n",
       "      <td>1.3 Delta</td>\n",
       "      <td>Manual</td>\n",
       "      <td>Diesel</td>\n",
       "      <td>2017</td>\n",
       "      <td>43,600</td>\n",
       "      <td>5.65 Lakh</td>\n",
       "      <td>Kolkata</td>\n",
       "    </tr>\n",
       "    <tr>\n",
       "      <th>8648</th>\n",
       "      <td>Maruti Baleno</td>\n",
       "      <td>1.2 CVT Alpha</td>\n",
       "      <td>Automatic</td>\n",
       "      <td>Petrol</td>\n",
       "      <td>2021</td>\n",
       "      <td>5,000</td>\n",
       "      <td>9.25 Lakh</td>\n",
       "      <td>Ahemdabad</td>\n",
       "    </tr>\n",
       "    <tr>\n",
       "      <th>8924</th>\n",
       "      <td>Maruti Swift</td>\n",
       "      <td>VDI BSIV</td>\n",
       "      <td>Manual</td>\n",
       "      <td>Diesel</td>\n",
       "      <td>2015</td>\n",
       "      <td>60,000</td>\n",
       "      <td>2.40 Lakh</td>\n",
       "      <td>Chandigarh</td>\n",
       "    </tr>\n",
       "    <tr>\n",
       "      <th>9789</th>\n",
       "      <td>Tata Hexa</td>\n",
       "      <td>XT</td>\n",
       "      <td>Manual</td>\n",
       "      <td>Diesel</td>\n",
       "      <td>2018</td>\n",
       "      <td>80,000</td>\n",
       "      <td>11.50 Lakh</td>\n",
       "      <td>Lucknow</td>\n",
       "    </tr>\n",
       "  </tbody>\n",
       "</table>\n",
       "<p>145 rows × 8 columns</p>\n",
       "</div>"
      ],
      "text/plain": [
       "            ModelName                   Variant TransmissionType FuelType  \\\n",
       "168      Maruti Swift                  ZXI BSIV           Manual   Petrol   \n",
       "266    Renault Duster  85PS Diesel RxL Optional           Manual   Diesel   \n",
       "268      Maruti Swift                   AMT ZXI        Automatic   Petrol   \n",
       "360     Ford Ecosport  1.5 Diesel Ambiente BSIV           Manual   Diesel   \n",
       "400   BMW 3 Series GT               Luxury Line        Automatic   Diesel   \n",
       "...               ...                       ...              ...      ...   \n",
       "7197   Renault Duster            Petrol RXS CVT        Automatic   Petrol   \n",
       "7527      Maruti Ciaz                 1.3 Delta           Manual   Diesel   \n",
       "8648    Maruti Baleno             1.2 CVT Alpha        Automatic   Petrol   \n",
       "8924     Maruti Swift                  VDI BSIV           Manual   Diesel   \n",
       "9789        Tata Hexa                        XT           Manual   Diesel   \n",
       "\n",
       "      ModelYear KilometersDriven   SalePrice    Location  \n",
       "168        2016           87,436   4.91 Lakh   Delhi/NCR  \n",
       "266        2012         1,37,227   2.65 Lakh   Delhi/NCR  \n",
       "268        2018           77,283   5.65 Lakh   Delhi/NCR  \n",
       "360        2020           24,000   8.30 Lakh   Delhi/NCR  \n",
       "400        2018           10,110  36.99 Lakh   Delhi/NCR  \n",
       "...         ...              ...         ...         ...  \n",
       "7197       2017           20,462   6.94 Lakh     Kolkata  \n",
       "7527       2017           43,600   5.65 Lakh     Kolkata  \n",
       "8648       2021            5,000   9.25 Lakh   Ahemdabad  \n",
       "8924       2015           60,000   2.40 Lakh  Chandigarh  \n",
       "9789       2018           80,000  11.50 Lakh     Lucknow  \n",
       "\n",
       "[145 rows x 8 columns]"
      ]
     },
     "execution_count": 5,
     "metadata": {},
     "output_type": "execute_result"
    }
   ],
   "source": [
    "#now let's check out for duplicate data that might be present in the dataset\n",
    "\n",
    "dfdup=df[df.duplicated()]\n",
    "dfdup"
   ]
  },
  {
   "cell_type": "markdown",
   "id": "08ac9f75",
   "metadata": {},
   "source": [
    "- So the dataset has 145 duplicate rows, we are going to drop them as duplicated data isn't of very use"
   ]
  },
  {
   "cell_type": "code",
   "execution_count": 6,
   "id": "0478de5d",
   "metadata": {},
   "outputs": [
    {
     "data": {
      "text/plain": [
       "(10028, 8)"
      ]
     },
     "execution_count": 6,
     "metadata": {},
     "output_type": "execute_result"
    }
   ],
   "source": [
    "#checking shape of dataset \n",
    "df.shape"
   ]
  },
  {
   "cell_type": "code",
   "execution_count": 7,
   "id": "fda4e3c9",
   "metadata": {},
   "outputs": [
    {
     "data": {
      "text/plain": [
       "(9883, 8)"
      ]
     },
     "execution_count": 7,
     "metadata": {},
     "output_type": "execute_result"
    }
   ],
   "source": [
    "#removing duplicated rows from the dataset\n",
    "df.drop_duplicates(inplace=True)\n",
    "\n",
    "#again checking for shape of the now data\n",
    "df.shape"
   ]
  },
  {
   "cell_type": "code",
   "execution_count": 8,
   "id": "0b524afb",
   "metadata": {},
   "outputs": [
    {
     "data": {
      "text/plain": [
       "ModelName           0\n",
       "Variant             0\n",
       "TransmissionType    0\n",
       "FuelType            0\n",
       "ModelYear           0\n",
       "KilometersDriven    0\n",
       "SalePrice           0\n",
       "Location            0\n",
       "dtype: int64"
      ]
     },
     "execution_count": 8,
     "metadata": {},
     "output_type": "execute_result"
    }
   ],
   "source": [
    "#Now, lets checking for missing values\n",
    "\n",
    "df.isnull().sum()"
   ]
  },
  {
   "cell_type": "markdown",
   "id": "eb8196fd",
   "metadata": {},
   "source": [
    "- So the dataset has no missing values present"
   ]
  },
  {
   "cell_type": "code",
   "execution_count": 9,
   "id": "31ab0f75",
   "metadata": {},
   "outputs": [
    {
     "data": {
      "image/png": "[encoded data removed]",
      "text/plain": [
       "<Figure size 432x288 with 2 Axes>"
      ]
     },
     "metadata": {
      "needs_background": "light"
     },
     "output_type": "display_data"
    }
   ],
   "source": [
    "sns.heatmap(df.isnull())\n",
    "plt.show()"
   ]
  },
  {
   "cell_type": "code",
   "execution_count": 10,
   "id": "cf4af6cd",
   "metadata": {},
   "outputs": [
    {
     "data": {
      "text/plain": [
       "ModelName           object\n",
       "Variant             object\n",
       "TransmissionType    object\n",
       "FuelType            object\n",
       "ModelYear            int64\n",
       "KilometersDriven    object\n",
       "SalePrice           object\n",
       "Location            object\n",
       "dtype: object"
      ]
     },
     "execution_count": 10,
     "metadata": {},
     "output_type": "execute_result"
    }
   ],
   "source": [
    "#now checking for datatypes\n",
    "\n",
    "df.dtypes"
   ]
  },
  {
   "cell_type": "markdown",
   "id": "01ef4cbf",
   "metadata": {},
   "source": [
    "- The target variable i.e. SalePrice has been assigned 'object' datatype which is certainly wrong as it should be of numeric datatype\n",
    "\n",
    "- Kilometers driver should also be numeric variable"
   ]
  },
  {
   "cell_type": "code",
   "execution_count": 11,
   "id": "f1168c8b",
   "metadata": {},
   "outputs": [
    {
     "data": {
      "text/plain": [
       "0        5.85 Lakh\n",
       "1        5.48 Lakh\n",
       "2        4.11 Lakh\n",
       "3        8.05 Lakh\n",
       "4        5.85 Lakh\n",
       "           ...    \n",
       "10023    3.85 Lakh\n",
       "10024    9.80 Lakh\n",
       "10025    4.00 Lakh\n",
       "10026    2.90 Lakh\n",
       "10027    1.05 Lakh\n",
       "Name: SalePrice, Length: 9883, dtype: object"
      ]
     },
     "execution_count": 11,
     "metadata": {},
     "output_type": "execute_result"
    }
   ],
   "source": [
    "df['SalePrice']"
   ]
  },
  {
   "cell_type": "markdown",
   "id": "8547b9d2",
   "metadata": {},
   "source": [
    "- Now for SalePrice, we are going to convert Cr value to lakh only so that the range of data in numbers remain not much wide"
   ]
  },
  {
   "cell_type": "code",
   "execution_count": 12,
   "id": "36444f40",
   "metadata": {},
   "outputs": [],
   "source": [
    "df['SalePrice']=df['SalePrice'].str.replace(\" Lakh\", '')          #first replacing Lakh with an empty string     \n",
    "\n",
    "df['SalePrice']=df['SalePrice'].str.replace(\" Cr\", '*100').apply(eval)   #converting Cr values with their values in lakh \n",
    "\n",
    "df['SalePrice'] = pd.to_numeric(df['SalePrice'])        #now converting into numeric variable"
   ]
  },
  {
   "cell_type": "code",
   "execution_count": 13,
   "id": "1c044abb",
   "metadata": {
    "scrolled": true
   },
   "outputs": [
    {
     "data": {
      "text/plain": [
       "3319     99999.0\n",
       "4916     99999.0\n",
       "1635     99000.0\n",
       "7588     99000.0\n",
       "8888     99000.0\n",
       "          ...   \n",
       "9795     37000.0\n",
       "9810     37000.0\n",
       "8225     35000.0\n",
       "9539     35000.0\n",
       "10018    30000.0\n",
       "Name: SalePrice, Length: 111, dtype: float64"
      ]
     },
     "execution_count": 13,
     "metadata": {},
     "output_type": "execute_result"
    }
   ],
   "source": [
    "dfthous=df['SalePrice'].nlargest(n=111)                #checking for top maximum values of SalePrice\n",
    "dfthous"
   ]
  },
  {
   "cell_type": "markdown",
   "id": "a35e99cb",
   "metadata": {},
   "source": [
    "- Turning out there are 111 SalePrice value in thousand rupees while most of the data is in lakh terms and a few in crore , if we convert the other two in thousands the numbers would be so big, so we are going to drop the rows having the rupees in thousands "
   ]
  },
  {
   "cell_type": "code",
   "execution_count": 14,
   "id": "074f2b9b",
   "metadata": {},
   "outputs": [
    {
     "data": {
      "text/plain": [
       "170.0"
      ]
     },
     "execution_count": 14,
     "metadata": {},
     "output_type": "execute_result"
    }
   ],
   "source": [
    "dfdel=list(dfthous.index)          #making a list for rupees in thousands prices\n",
    "\n",
    "df.drop(dfdel,inplace=True)        #dropping the data from the dataset\n",
    "\n",
    "df['SalePrice'].max()              #checking for maximum value"
   ]
  },
  {
   "cell_type": "markdown",
   "id": "e9483d98",
   "metadata": {},
   "source": [
    "-The maximum price is 170 lakhs which is 1.70 Crore"
   ]
  },
  {
   "cell_type": "code",
   "execution_count": 15,
   "id": "564a473b",
   "metadata": {},
   "outputs": [
    {
     "data": {
      "text/plain": [
       "0          39,571\n",
       "1          36,633\n",
       "2        1,28,542\n",
       "3          38,165\n",
       "4          68,226\n",
       "           ...   \n",
       "10023      80,000\n",
       "10024      23,000\n",
       "10025      20,000\n",
       "10026    1,37,000\n",
       "10027      10,300\n",
       "Name: KilometersDriven, Length: 9772, dtype: object"
      ]
     },
     "execution_count": 15,
     "metadata": {},
     "output_type": "execute_result"
    }
   ],
   "source": [
    "df['KilometersDriven']           #now checking for Kilometersdriven"
   ]
  },
  {
   "cell_type": "code",
   "execution_count": 16,
   "id": "772b5389",
   "metadata": {},
   "outputs": [],
   "source": [
    " df['KilometersDriven'] = df['KilometersDriven'].str.replace(',','')            #replcaing the period with an empty string\n",
    "\n",
    "df['KilometersDriven'] = pd.to_numeric(df['KilometersDriven'])                 #converting to numeirc variable"
   ]
  },
  {
   "cell_type": "code",
   "execution_count": 17,
   "id": "e072793e",
   "metadata": {},
   "outputs": [
    {
     "data": {
      "text/plain": [
       "ModelName            object\n",
       "Variant              object\n",
       "TransmissionType     object\n",
       "FuelType             object\n",
       "ModelYear             int64\n",
       "KilometersDriven      int64\n",
       "SalePrice           float64\n",
       "Location             object\n",
       "dtype: object"
      ]
     },
     "execution_count": 17,
     "metadata": {},
     "output_type": "execute_result"
    }
   ],
   "source": [
    "#now checking for datatypes\n",
    "\n",
    "df.dtypes"
   ]
  },
  {
   "cell_type": "markdown",
   "id": "60554cb6",
   "metadata": {},
   "source": [
    "# Exploratory Data Analysis:"
   ]
  },
  {
   "cell_type": "code",
   "execution_count": 18,
   "id": "c73643c3",
   "metadata": {},
   "outputs": [
    {
     "data": {
      "text/plain": [
       "Index(['ModelName', 'Variant', 'TransmissionType', 'FuelType', 'ModelYear',\n",
       "       'KilometersDriven', 'SalePrice', 'Location'],\n",
       "      dtype='object')"
      ]
     },
     "execution_count": 18,
     "metadata": {},
     "output_type": "execute_result"
    }
   ],
   "source": [
    "#checking the variables\n",
    "\n",
    "df.columns"
   ]
  },
  {
   "cell_type": "code",
   "execution_count": 19,
   "id": "5693f302",
   "metadata": {},
   "outputs": [
    {
     "name": "stdout",
     "output_type": "stream",
     "text": [
      "<class 'pandas.core.frame.DataFrame'>\n",
      "Int64Index: 9772 entries, 0 to 10027\n",
      "Data columns (total 8 columns):\n",
      " #   Column            Non-Null Count  Dtype  \n",
      "---  ------            --------------  -----  \n",
      " 0   ModelName         9772 non-null   object \n",
      " 1   Variant           9772 non-null   object \n",
      " 2   TransmissionType  9772 non-null   object \n",
      " 3   FuelType          9772 non-null   object \n",
      " 4   ModelYear         9772 non-null   int64  \n",
      " 5   KilometersDriven  9772 non-null   int64  \n",
      " 6   SalePrice         9772 non-null   float64\n",
      " 7   Location          9772 non-null   object \n",
      "dtypes: float64(1), int64(2), object(5)\n",
      "memory usage: 687.1+ KB\n"
     ]
    }
   ],
   "source": [
    "#getting additional info about the dataset\n",
    "\n",
    "df.info()"
   ]
  },
  {
   "cell_type": "code",
   "execution_count": 20,
   "id": "e425b0f5",
   "metadata": {},
   "outputs": [
    {
     "data": {
      "text/html": [
       "<div>\n",
       "<style scoped>\n",
       "    .dataframe tbody tr th:only-of-type {\n",
       "        vertical-align: middle;\n",
       "    }\n",
       "\n",
       "    .dataframe tbody tr th {\n",
       "        vertical-align: top;\n",
       "    }\n",
       "\n",
       "    .dataframe thead th {\n",
       "        text-align: right;\n",
       "    }\n",
       "</style>\n",
       "<table border=\"1\" class=\"dataframe\">\n",
       "  <thead>\n",
       "    <tr style=\"text-align: right;\">\n",
       "      <th></th>\n",
       "      <th>ModelYear</th>\n",
       "      <th>KilometersDriven</th>\n",
       "      <th>SalePrice</th>\n",
       "    </tr>\n",
       "  </thead>\n",
       "  <tbody>\n",
       "    <tr>\n",
       "      <th>count</th>\n",
       "      <td>9772.000000</td>\n",
       "      <td>9.772000e+03</td>\n",
       "      <td>9772.000000</td>\n",
       "    </tr>\n",
       "    <tr>\n",
       "      <th>mean</th>\n",
       "      <td>2015.459988</td>\n",
       "      <td>5.777794e+04</td>\n",
       "      <td>9.281357</td>\n",
       "    </tr>\n",
       "    <tr>\n",
       "      <th>std</th>\n",
       "      <td>3.523527</td>\n",
       "      <td>4.981026e+04</td>\n",
       "      <td>11.058007</td>\n",
       "    </tr>\n",
       "    <tr>\n",
       "      <th>min</th>\n",
       "      <td>1990.000000</td>\n",
       "      <td>1.450000e+02</td>\n",
       "      <td>1.000000</td>\n",
       "    </tr>\n",
       "    <tr>\n",
       "      <th>25%</th>\n",
       "      <td>2013.000000</td>\n",
       "      <td>3.200000e+04</td>\n",
       "      <td>3.850000</td>\n",
       "    </tr>\n",
       "    <tr>\n",
       "      <th>50%</th>\n",
       "      <td>2016.000000</td>\n",
       "      <td>5.300000e+04</td>\n",
       "      <td>5.960000</td>\n",
       "    </tr>\n",
       "    <tr>\n",
       "      <th>75%</th>\n",
       "      <td>2018.000000</td>\n",
       "      <td>7.576050e+04</td>\n",
       "      <td>9.700000</td>\n",
       "    </tr>\n",
       "    <tr>\n",
       "      <th>max</th>\n",
       "      <td>2022.000000</td>\n",
       "      <td>2.171000e+06</td>\n",
       "      <td>170.000000</td>\n",
       "    </tr>\n",
       "  </tbody>\n",
       "</table>\n",
       "</div>"
      ],
      "text/plain": [
       "         ModelYear  KilometersDriven    SalePrice\n",
       "count  9772.000000      9.772000e+03  9772.000000\n",
       "mean   2015.459988      5.777794e+04     9.281357\n",
       "std       3.523527      4.981026e+04    11.058007\n",
       "min    1990.000000      1.450000e+02     1.000000\n",
       "25%    2013.000000      3.200000e+04     3.850000\n",
       "50%    2016.000000      5.300000e+04     5.960000\n",
       "75%    2018.000000      7.576050e+04     9.700000\n",
       "max    2022.000000      2.171000e+06   170.000000"
      ]
     },
     "execution_count": 20,
     "metadata": {},
     "output_type": "execute_result"
    }
   ],
   "source": [
    "#further describing our dataset\n",
    "\n",
    "df.describe()"
   ]
  },
  {
   "cell_type": "markdown",
   "id": "3b3f53ca",
   "metadata": {},
   "source": [
    "- the oldest model year is 1990 and the newest model is of 2022, present in the dataset\n",
    "\n",
    "- minimum sale price is 1 lakh while the maximum is 1.70 crore"
   ]
  },
  {
   "cell_type": "code",
   "execution_count": 21,
   "id": "913cf861",
   "metadata": {},
   "outputs": [
    {
     "name": "stdout",
     "output_type": "stream",
     "text": [
      "Honda City                   538\n",
      "Hyundai i20                  440\n",
      "Hyundai Grand i10            314\n",
      "Hyundai Creta                309\n",
      "Maruti Swift Dzire           306\n",
      "                            ... \n",
      "Hindustan Motors Contessa      1\n",
      "Maserati Ghibli                1\n",
      "Maruti Ciaz S                  1\n",
      "Mercedes-Benz GLC Coupe        1\n",
      "Hyundai Xcent Prime            1\n",
      "Name: ModelName, Length: 297, dtype: int64 \n",
      "\n",
      "\n",
      "VXI                         262\n",
      "LXI                         173\n",
      "Sportz                      137\n",
      "Magna                       114\n",
      "VDI                         114\n",
      "                           ... \n",
      "2.5 GX (Diesel) 8 Seater      1\n",
      "1.6 TDI Active Plus           1\n",
      "L and K 1.9 TDI MT            1\n",
      "L and K 1.9 TDI (MT)          1\n",
      "SX Opt Sport iMT              1\n",
      "Name: Variant, Length: 2162, dtype: int64 \n",
      "\n",
      "\n",
      "Manual       7173\n",
      "Automatic    2599\n",
      "Name: TransmissionType, dtype: int64 \n",
      "\n",
      "\n",
      "Petrol      5702\n",
      "Diesel      3890\n",
      "CNG          146\n",
      "Electric      18\n",
      "LPG           16\n",
      "Name: FuelType, dtype: int64 \n",
      "\n",
      "\n",
      "2017    1251\n",
      "2018    1182\n",
      "2016    1065\n",
      "2015     990\n",
      "2019     821\n",
      "2014     817\n",
      "2013     670\n",
      "2012     561\n",
      "2020     552\n",
      "2011     437\n",
      "2021     436\n",
      "2010     313\n",
      "2009     214\n",
      "2007     128\n",
      "2008     127\n",
      "2022      70\n",
      "2006      63\n",
      "2005      36\n",
      "2004      14\n",
      "2003      13\n",
      "2001       6\n",
      "2002       3\n",
      "1997       1\n",
      "1990       1\n",
      "2000       1\n",
      "Name: ModelYear, dtype: int64 \n",
      "\n",
      "\n",
      "80000     155\n",
      "70000     154\n",
      "60000     134\n",
      "120000    132\n",
      "40000     126\n",
      "         ... \n",
      "89150       1\n",
      "68024       1\n",
      "53021       1\n",
      "7900        1\n",
      "10300       1\n",
      "Name: KilometersDriven, Length: 4787, dtype: int64 \n",
      "\n",
      "\n",
      "4.50     104\n",
      "3.50      96\n",
      "4.25      95\n",
      "5.50      88\n",
      "5.25      88\n",
      "        ... \n",
      "2.12       1\n",
      "14.49      1\n",
      "23.55      1\n",
      "27.40      1\n",
      "1.16       1\n",
      "Name: SalePrice, Length: 1344, dtype: int64 \n",
      "\n",
      "\n",
      "Banglore      1732\n",
      "Mumbai        1292\n",
      "Delhi/NCR     1083\n",
      "Pune          1015\n",
      "Hyderabad      927\n",
      "Chennai        910\n",
      "Ahemdabad      804\n",
      "Kolkata        770\n",
      "Jaipur         598\n",
      "Lucknow        301\n",
      "Chandigarh     172\n",
      "Agra           168\n",
      "Name: Location, dtype: int64 \n",
      "\n",
      "\n"
     ]
    }
   ],
   "source": [
    "#checking out different classes or labels present in the variables\n",
    "\n",
    "for i in df.columns:\n",
    "    print(df[i].value_counts(),'\\n\\n')"
   ]
  },
  {
   "cell_type": "code",
   "execution_count": 22,
   "id": "e7f1aec7",
   "metadata": {},
   "outputs": [
    {
     "data": {
      "image/png": "[encoded data removed]",
      "text/plain": [
       "<Figure size 432x288 with 1 Axes>"
      ]
     },
     "metadata": {
      "needs_background": "light"
     },
     "output_type": "display_data"
    }
   ],
   "source": [
    "#plotting the target variable\n",
    "\n",
    "sns.distplot(df['SalePrice'])\n",
    "plt.show()"
   ]
  },
  {
   "cell_type": "markdown",
   "id": "a233ecae",
   "metadata": {},
   "source": [
    "- The dataset doesn't have very much outliers present\n",
    "- The data is right skewed though skewness isn't much great too"
   ]
  },
  {
   "cell_type": "code",
   "execution_count": 23,
   "id": "e4345686",
   "metadata": {},
   "outputs": [
    {
     "data": {
      "image/png": "[encoded data removed]",
      "text/plain": [
       "<Figure size 360x360 with 1 Axes>"
      ]
     },
     "metadata": {
      "needs_background": "light"
     },
     "output_type": "display_data"
    }
   ],
   "source": [
    "#plotting TransmissionType and SalePrice\n",
    "\n",
    "sns.catplot('TransmissionType','SalePrice',data=df)\n",
    "plt.show()"
   ]
  },
  {
   "cell_type": "markdown",
   "id": "60b80ae0",
   "metadata": {},
   "source": [
    "- Automatic transmission cars price is higher than manual ones"
   ]
  },
  {
   "cell_type": "code",
   "execution_count": 24,
   "id": "58e9c734",
   "metadata": {},
   "outputs": [
    {
     "data": {
      "image/png": "[encoded data removed]",
      "text/plain": [
       "<Figure size 360x360 with 1 Axes>"
      ]
     },
     "metadata": {
      "needs_background": "light"
     },
     "output_type": "display_data"
    }
   ],
   "source": [
    "#plotting FuelType and SalePrice\n",
    "\n",
    "sns.catplot('FuelType','SalePrice',data=df)\n",
    "plt.show()"
   ]
  },
  {
   "cell_type": "markdown",
   "id": "29f6edbf",
   "metadata": {},
   "source": [
    "- Diesel fuel vehicles are costlier than other fuel types\n",
    "- LPG vehicles have cheapest prices"
   ]
  },
  {
   "cell_type": "code",
   "execution_count": 25,
   "id": "a9a78b8c",
   "metadata": {},
   "outputs": [
    {
     "data": {
      "image/png": "[encoded data removed]",
      "text/plain": [
       "<Figure size 1800x576 with 1 Axes>"
      ]
     },
     "metadata": {
      "needs_background": "light"
     },
     "output_type": "display_data"
    }
   ],
   "source": [
    "#plotting ModelYear and SalePrice\n",
    "\n",
    "plt.figure(figsize=(25,8))\n",
    "sns.barplot('ModelYear','SalePrice',data=df)\n",
    "plt.show()"
   ]
  },
  {
   "cell_type": "markdown",
   "id": "ba1c7f4a",
   "metadata": {},
   "source": [
    "- from model year 2004, the sale prices are increasing gradually\n",
    "- Model year 2022 have the highest car prices\n",
    "- Model year 1997 has the lowest car prices\n",
    "- Model year 1990 has higher sale prices than model year 1997 to 2008 "
   ]
  },
  {
   "cell_type": "code",
   "execution_count": 27,
   "id": "df0cb2bc",
   "metadata": {},
   "outputs": [
    {
     "data": {
      "text/plain": [
       "<Figure size 1080x504 with 0 Axes>"
      ]
     },
     "metadata": {},
     "output_type": "display_data"
    },
    {
     "data": {
      "image/png": "[encoded data removed]",
      "text/plain": [
       "<Figure size 360x360 with 1 Axes>"
      ]
     },
     "metadata": {
      "needs_background": "light"
     },
     "output_type": "display_data"
    }
   ],
   "source": [
    "#plotting owner and SalePrice\n",
    "\n",
    "plt.figure(figsize=(15,7))\n",
    "sns.catplot('Location','SalePrice',data=df,kind='bar')\n",
    "plt.xticks(rotation=90)\n",
    "plt.show()"
   ]
  },
  {
   "cell_type": "markdown",
   "id": "38a1c3e7",
   "metadata": {},
   "source": [
    "- Delhi/NCR region has the highest sale prices following by Banglore and then Chennai\n",
    "- Agra location has the lowest sale prices"
   ]
  },
  {
   "cell_type": "code",
   "execution_count": 29,
   "id": "578c8add",
   "metadata": {},
   "outputs": [
    {
     "data": {
      "image/png": "[encoded data removed]",
      "text/plain": [
       "<Figure size 576x360 with 1 Axes>"
      ]
     },
     "metadata": {
      "needs_background": "light"
     },
     "output_type": "display_data"
    }
   ],
   "source": [
    "#plotting kilometersdriven and saleprice\n",
    "\n",
    "plt.figure(figsize=(8,5))\n",
    "sns.scatterplot('KilometersDriven','SalePrice',data=df)\n",
    "plt.show()"
   ]
  },
  {
   "cell_type": "markdown",
   "id": "70f9f739",
   "metadata": {},
   "source": [
    "- lesser the kilometers driven higher the prices\n",
    "- cars that have been driven more than 2 lakh kms have very low price "
   ]
  },
  {
   "cell_type": "markdown",
   "id": "bef09c96",
   "metadata": {},
   "source": [
    "# Data Preprocessing:"
   ]
  },
  {
   "cell_type": "code",
   "execution_count": 18,
   "id": "037f0922",
   "metadata": {},
   "outputs": [
    {
     "data": {
      "text/plain": [
       "Index(['ModelName', 'Variant', 'TransmissionType', 'FuelType', 'ModelYear',\n",
       "       'KilometersDriven', 'SalePrice', 'Location'],\n",
       "      dtype='object')"
      ]
     },
     "execution_count": 18,
     "metadata": {},
     "output_type": "execute_result"
    }
   ],
   "source": [
    "df.columns"
   ]
  },
  {
   "cell_type": "markdown",
   "id": "5e2d7c42",
   "metadata": {},
   "source": [
    "#dropping ModelName and Variant from dataset has they dont have much importance"
   ]
  },
  {
   "cell_type": "code",
   "execution_count": 19,
   "id": "7ae8c5a8",
   "metadata": {},
   "outputs": [],
   "source": [
    "df.drop(['ModelName','Variant'],axis=1,inplace=True)"
   ]
  },
  {
   "cell_type": "code",
   "execution_count": 20,
   "id": "9d7ad945",
   "metadata": {},
   "outputs": [
    {
     "data": {
      "text/plain": [
       "ModelYear           -0.702672\n",
       "KilometersDriven    16.473128\n",
       "SalePrice            4.339030\n",
       "dtype: float64"
      ]
     },
     "execution_count": 20,
     "metadata": {},
     "output_type": "execute_result"
    }
   ],
   "source": [
    "#checking for skewness\n",
    "\n",
    "df.skew()"
   ]
  },
  {
   "cell_type": "markdown",
   "id": "79f5404b",
   "metadata": {},
   "source": [
    "- threshold = +/- 0.6 , so KilometersDriven and SalePrice have skewness present which needs to reduced"
   ]
  },
  {
   "cell_type": "code",
   "execution_count": 32,
   "id": "b27a939b",
   "metadata": {},
   "outputs": [
    {
     "data": {
      "image/png": "[encoded data removed]",
      "text/plain": [
       "<Figure size 432x288 with 1 Axes>"
      ]
     },
     "metadata": {
      "needs_background": "light"
     },
     "output_type": "display_data"
    }
   ],
   "source": [
    "sns.distplot(df['KilometersDriven'])\n",
    "plt.show()"
   ]
  },
  {
   "cell_type": "code",
   "execution_count": 59,
   "id": "1c240294",
   "metadata": {},
   "outputs": [
    {
     "data": {
      "image/png": "[encoded data removed]",
      "text/plain": [
       "<Figure size 432x288 with 1 Axes>"
      ]
     },
     "metadata": {
      "needs_background": "light"
     },
     "output_type": "display_data"
    }
   ],
   "source": [
    "sns.distplot(df['SalePrice'])\n",
    "plt.show()"
   ]
  },
  {
   "cell_type": "code",
   "execution_count": 21,
   "id": "bff5af1d",
   "metadata": {},
   "outputs": [
    {
     "data": {
      "text/plain": [
       "ModelYear          -0.702672\n",
       "KilometersDriven    0.156399\n",
       "SalePrice           0.611522\n",
       "dtype: float64"
      ]
     },
     "execution_count": 21,
     "metadata": {},
     "output_type": "execute_result"
    }
   ],
   "source": [
    "#using log transformation and cube-root transformation for skewness removal\n",
    "\n",
    "df['KilometersDriven'] = np.cbrt(df['KilometersDriven'])\n",
    "df['SalePrice'] = np.log(df['SalePrice'])\n",
    "\n",
    "#checking for skewness\n",
    "\n",
    "df.skew()"
   ]
  },
  {
   "cell_type": "code",
   "execution_count": 61,
   "id": "4aa20f6f",
   "metadata": {},
   "outputs": [
    {
     "data": {
      "image/png": "[encoded data removed]",
      "text/plain": [
       "<Figure size 432x288 with 1 Axes>"
      ]
     },
     "metadata": {
      "needs_background": "light"
     },
     "output_type": "display_data"
    }
   ],
   "source": [
    "sns.distplot(df['KilometersDriven'])\n",
    "plt.show()"
   ]
  },
  {
   "cell_type": "code",
   "execution_count": 62,
   "id": "52f21db8",
   "metadata": {},
   "outputs": [
    {
     "data": {
      "image/png": "[encoded data removed]",
      "text/plain": [
       "<Figure size 432x288 with 1 Axes>"
      ]
     },
     "metadata": {
      "needs_background": "light"
     },
     "output_type": "display_data"
    }
   ],
   "source": [
    "sns.distplot(df['SalePrice'])\n",
    "plt.show()"
   ]
  },
  {
   "cell_type": "markdown",
   "id": "1dd2bc2f",
   "metadata": {},
   "source": [
    "- skewness has been reduced and the data is scaled as well"
   ]
  },
  {
   "cell_type": "code",
   "execution_count": 63,
   "id": "48d59514",
   "metadata": {},
   "outputs": [
    {
     "data": {
      "text/plain": [
       "ModelName            object\n",
       "Variant              object\n",
       "TransmissionType     object\n",
       "FuelType             object\n",
       "ModelYear             int64\n",
       "KilometersDriven    float64\n",
       "SalePrice           float64\n",
       "Location             object\n",
       "dtype: object"
      ]
     },
     "execution_count": 63,
     "metadata": {},
     "output_type": "execute_result"
    }
   ],
   "source": [
    "#checking for datatypes\n",
    "\n",
    "df.dtypes"
   ]
  },
  {
   "cell_type": "code",
   "execution_count": 22,
   "id": "4e6d767e",
   "metadata": {},
   "outputs": [],
   "source": [
    "#converting categorical variables into numerical ones using LabelEncoder\n",
    "\n",
    "from sklearn.preprocessing import LabelEncoder\n",
    "\n",
    "cat=['TransmissionType','FuelType','Location']     #creating a list of categorical variables\n",
    "\n",
    "for i in cat:\n",
    "    df[i] = LabelEncoder().fit_transform(df[i])"
   ]
  },
  {
   "cell_type": "code",
   "execution_count": 65,
   "id": "5f0161da",
   "metadata": {},
   "outputs": [
    {
     "data": {
      "text/html": [
       "<div>\n",
       "<style scoped>\n",
       "    .dataframe tbody tr th:only-of-type {\n",
       "        vertical-align: middle;\n",
       "    }\n",
       "\n",
       "    .dataframe tbody tr th {\n",
       "        vertical-align: top;\n",
       "    }\n",
       "\n",
       "    .dataframe thead th {\n",
       "        text-align: right;\n",
       "    }\n",
       "</style>\n",
       "<table border=\"1\" class=\"dataframe\">\n",
       "  <thead>\n",
       "    <tr style=\"text-align: right;\">\n",
       "      <th></th>\n",
       "      <th>TransmissionType</th>\n",
       "      <th>FuelType</th>\n",
       "      <th>ModelYear</th>\n",
       "      <th>KilometersDriven</th>\n",
       "      <th>SalePrice</th>\n",
       "      <th>Location</th>\n",
       "    </tr>\n",
       "  </thead>\n",
       "  <tbody>\n",
       "    <tr>\n",
       "      <th>TransmissionType</th>\n",
       "      <td>1.000000</td>\n",
       "      <td>0.082552</td>\n",
       "      <td>-0.142807</td>\n",
       "      <td>0.134754</td>\n",
       "      <td>-0.546508</td>\n",
       "      <td>-0.006026</td>\n",
       "    </tr>\n",
       "    <tr>\n",
       "      <th>FuelType</th>\n",
       "      <td>0.082552</td>\n",
       "      <td>1.000000</td>\n",
       "      <td>0.016780</td>\n",
       "      <td>-0.304005</td>\n",
       "      <td>-0.322044</td>\n",
       "      <td>0.032701</td>\n",
       "    </tr>\n",
       "    <tr>\n",
       "      <th>ModelYear</th>\n",
       "      <td>-0.142807</td>\n",
       "      <td>0.016780</td>\n",
       "      <td>1.000000</td>\n",
       "      <td>-0.563585</td>\n",
       "      <td>0.565915</td>\n",
       "      <td>0.008067</td>\n",
       "    </tr>\n",
       "    <tr>\n",
       "      <th>KilometersDriven</th>\n",
       "      <td>0.134754</td>\n",
       "      <td>-0.304005</td>\n",
       "      <td>-0.563585</td>\n",
       "      <td>1.000000</td>\n",
       "      <td>-0.300236</td>\n",
       "      <td>-0.041968</td>\n",
       "    </tr>\n",
       "    <tr>\n",
       "      <th>SalePrice</th>\n",
       "      <td>-0.546508</td>\n",
       "      <td>-0.322044</td>\n",
       "      <td>0.565915</td>\n",
       "      <td>-0.300236</td>\n",
       "      <td>1.000000</td>\n",
       "      <td>-0.052077</td>\n",
       "    </tr>\n",
       "    <tr>\n",
       "      <th>Location</th>\n",
       "      <td>-0.006026</td>\n",
       "      <td>0.032701</td>\n",
       "      <td>0.008067</td>\n",
       "      <td>-0.041968</td>\n",
       "      <td>-0.052077</td>\n",
       "      <td>1.000000</td>\n",
       "    </tr>\n",
       "  </tbody>\n",
       "</table>\n",
       "</div>"
      ],
      "text/plain": [
       "                  TransmissionType  FuelType  ModelYear  KilometersDriven  \\\n",
       "TransmissionType          1.000000  0.082552  -0.142807          0.134754   \n",
       "FuelType                  0.082552  1.000000   0.016780         -0.304005   \n",
       "ModelYear                -0.142807  0.016780   1.000000         -0.563585   \n",
       "KilometersDriven          0.134754 -0.304005  -0.563585          1.000000   \n",
       "SalePrice                -0.546508 -0.322044   0.565915         -0.300236   \n",
       "Location                 -0.006026  0.032701   0.008067         -0.041968   \n",
       "\n",
       "                  SalePrice  Location  \n",
       "TransmissionType  -0.546508 -0.006026  \n",
       "FuelType          -0.322044  0.032701  \n",
       "ModelYear          0.565915  0.008067  \n",
       "KilometersDriven  -0.300236 -0.041968  \n",
       "SalePrice          1.000000 -0.052077  \n",
       "Location          -0.052077  1.000000  "
      ]
     },
     "execution_count": 65,
     "metadata": {},
     "output_type": "execute_result"
    }
   ],
   "source": [
    "#checking out correlation matrix \n",
    "\n",
    "df.corr()"
   ]
  },
  {
   "cell_type": "code",
   "execution_count": 66,
   "id": "c4a4f099",
   "metadata": {},
   "outputs": [
    {
     "data": {
      "text/plain": [
       "TransmissionType   -0.546508\n",
       "FuelType           -0.322044\n",
       "KilometersDriven   -0.300236\n",
       "Location           -0.052077\n",
       "ModelYear           0.565915\n",
       "SalePrice           1.000000\n",
       "Name: SalePrice, dtype: float64"
      ]
     },
     "execution_count": 66,
     "metadata": {},
     "output_type": "execute_result"
    }
   ],
   "source": [
    "#checking correlation with target variable of input variables\n",
    "\n",
    "df.corr()['SalePrice'].sort_values()"
   ]
  },
  {
   "cell_type": "markdown",
   "id": "3105d15d",
   "metadata": {},
   "source": [
    "- Model year, TransmissionType Fuel type and kilometers driven are most correlated with the target variable"
   ]
  },
  {
   "cell_type": "code",
   "execution_count": 67,
   "id": "3bd4efff",
   "metadata": {},
   "outputs": [
    {
     "data": {
      "image/png": "[encoded data removed]",
      "text/plain": [
       "<Figure size 432x288 with 2 Axes>"
      ]
     },
     "metadata": {
      "needs_background": "light"
     },
     "output_type": "display_data"
    }
   ],
   "source": [
    "#plotting a heatmap\n",
    "\n",
    "sns.heatmap(df.corr(),annot=True,fmt='.2%',cmap='PiYG_r')\n",
    "plt.show()"
   ]
  },
  {
   "cell_type": "code",
   "execution_count": 72,
   "id": "28b7f026",
   "metadata": {},
   "outputs": [
    {
     "data": {
      "image/png": "[encoded data removed]",
      "text/plain": [
       "<Figure size 432x288 with 1 Axes>"
      ]
     },
     "metadata": {
      "needs_background": "light"
     },
     "output_type": "display_data"
    }
   ],
   "source": [
    "#now checking for outliers\n",
    "\n",
    "sns.boxplot(df['SalePrice'])\n",
    "plt.show()"
   ]
  },
  {
   "cell_type": "code",
   "execution_count": 73,
   "id": "48b320f9",
   "metadata": {},
   "outputs": [
    {
     "data": {
      "image/png": "[encoded data removed]",
      "text/plain": [
       "<Figure size 432x288 with 1 Axes>"
      ]
     },
     "metadata": {
      "needs_background": "light"
     },
     "output_type": "display_data"
    }
   ],
   "source": [
    "sns.boxplot(df['KilometersDriven'])\n",
    "plt.show()"
   ]
  },
  {
   "cell_type": "markdown",
   "id": "b556c45e",
   "metadata": {},
   "source": [
    "- There are outliers present in the dataset, let's checkout them using zscore "
   ]
  },
  {
   "cell_type": "code",
   "execution_count": 23,
   "id": "c975edc8",
   "metadata": {},
   "outputs": [
    {
     "data": {
      "text/plain": [
       "(array([  19,  146,  347,  358,  420,  425,  485,  507,  546,  585,  622,\n",
       "         623,  654,  655,  665,  673,  690,  708,  804,  842,  856,  858,\n",
       "         880,  915, 1048, 1049, 1296, 1342, 1593, 1626, 1632, 1685, 1687,\n",
       "        1698, 1712, 1732, 1845, 2028, 2034, 2148, 2181, 2198, 2333, 2524,\n",
       "        2646, 2854, 2929, 2931, 3335, 3522, 3583, 3600, 3642, 3682, 3721,\n",
       "        3729, 3729, 3811, 3870, 3883, 3935, 3946, 3946, 3952, 3963, 3995,\n",
       "        4044, 4056, 4138, 4249, 4315, 4359, 4505, 4515, 4524, 4527, 4573,\n",
       "        4632, 4737, 4762, 4775, 4797, 5023, 5071, 5121, 5356, 5411, 5452,\n",
       "        5462, 5498, 5582, 5627, 5636, 5656, 5712, 5765, 5765, 5766, 5834,\n",
       "        5878, 5913, 5918, 5981, 6017, 6036, 6042, 6209, 6221, 6245, 6291,\n",
       "        6294, 6379, 6481, 6492, 6526, 6550, 6629, 6632, 6664, 6681, 6811,\n",
       "        6817, 7077, 7286, 7325, 7326, 7335, 7398, 7404, 7522, 7541, 7661,\n",
       "        7718, 7899, 8000, 8082, 8204, 8243, 8388, 8397, 8418, 8445, 8524,\n",
       "        8525, 8547, 8605, 8694, 8698, 8722, 8878, 9056, 9094, 9143, 9291,\n",
       "        9439, 9448, 9467, 9469, 9470, 9522, 9537, 9711], dtype=int64),\n",
       " array([4, 3, 4, 4, 4, 4, 4, 4, 4, 4, 4, 3, 3, 4, 3, 4, 3, 3, 4, 4, 4, 4,\n",
       "        4, 2, 4, 4, 3, 3, 4, 3, 4, 3, 4, 4, 3, 3, 4, 3, 4, 4, 4, 2, 2, 3,\n",
       "        4, 4, 3, 4, 4, 3, 4, 4, 2, 3, 3, 3, 4, 4, 4, 3, 2, 2, 3, 4, 2, 4,\n",
       "        4, 2, 4, 4, 2, 2, 4, 2, 4, 2, 2, 2, 3, 2, 3, 3, 2, 3, 2, 4, 2, 2,\n",
       "        4, 2, 2, 3, 4, 3, 3, 2, 3, 2, 2, 2, 2, 2, 2, 2, 3, 3, 4, 4, 4, 3,\n",
       "        3, 2, 4, 2, 3, 4, 3, 2, 3, 2, 3, 2, 4, 3, 3, 4, 3, 4, 4, 3, 4, 3,\n",
       "        3, 3, 4, 4, 4, 2, 3, 3, 3, 2, 4, 4, 3, 3, 3, 2, 4, 3, 3, 3, 3, 4,\n",
       "        2, 4, 4, 4, 4, 3, 3, 2], dtype=int64))"
      ]
     },
     "execution_count": 23,
     "metadata": {},
     "output_type": "execute_result"
    }
   ],
   "source": [
    "#outliers using zscore\n",
    "\n",
    "from scipy.stats import zscore\n",
    "\n",
    "z=np.abs(zscore(df))\n",
    "\n",
    "np.where(z>3)"
   ]
  },
  {
   "cell_type": "code",
   "execution_count": 24,
   "id": "45e4a3c5",
   "metadata": {},
   "outputs": [],
   "source": [
    "#so outliers are present, so we will remove them or keep them, it won't affect our model majorily\n",
    "\n",
    "df_new=df[(z<3).all(axis=1)]"
   ]
  },
  {
   "cell_type": "code",
   "execution_count": 25,
   "id": "7ebde9c3",
   "metadata": {},
   "outputs": [
    {
     "data": {
      "text/plain": [
       "(9772, 6)"
      ]
     },
     "execution_count": 25,
     "metadata": {},
     "output_type": "execute_result"
    }
   ],
   "source": [
    "df.shape     #checking the shape of dataset with outliers"
   ]
  },
  {
   "cell_type": "code",
   "execution_count": 26,
   "id": "056d7201",
   "metadata": {},
   "outputs": [
    {
     "data": {
      "text/plain": [
       "(9613, 6)"
      ]
     },
     "execution_count": 26,
     "metadata": {},
     "output_type": "execute_result"
    }
   ],
   "source": [
    "df_new.shape       #checking the shape of dataset without outliers"
   ]
  },
  {
   "cell_type": "code",
   "execution_count": 27,
   "id": "dd858ce2",
   "metadata": {},
   "outputs": [
    {
     "name": "stdout",
     "output_type": "stream",
     "text": [
      "Data Loss is: 1.6270978305362258 %\n"
     ]
    }
   ],
   "source": [
    "print(\"Data Loss is:\",(9772-9613)/9772*100,'%')         #printing the data loss in removing outliers"
   ]
  },
  {
   "cell_type": "markdown",
   "id": "fa138346",
   "metadata": {},
   "source": [
    "- As the data loss is around 1% only, we will use dataset without outliers"
   ]
  },
  {
   "cell_type": "markdown",
   "id": "c8362bfb",
   "metadata": {},
   "source": [
    "# Feature Selection:"
   ]
  },
  {
   "cell_type": "markdown",
   "id": "54dd2cd2",
   "metadata": {},
   "source": [
    "- not including ModelName and Variant for input variables as they shouldn't have much importance in building the models"
   ]
  },
  {
   "cell_type": "code",
   "execution_count": 57,
   "id": "a17e9103",
   "metadata": {},
   "outputs": [
    {
     "name": "stdout",
     "output_type": "stream",
     "text": [
      "x: (9613, 5)\n",
      "y: (9613,)\n"
     ]
    }
   ],
   "source": [
    "x = df_new.drop('SalePrice',axis=1)\n",
    "y = df_new['SalePrice']\n",
    "\n",
    "print('x:',x.shape)\n",
    "print('y:',y.shape)"
   ]
  },
  {
   "cell_type": "code",
   "execution_count": 29,
   "id": "249af3e6",
   "metadata": {},
   "outputs": [
    {
     "data": {
      "text/html": [
       "<div>\n",
       "<style scoped>\n",
       "    .dataframe tbody tr th:only-of-type {\n",
       "        vertical-align: middle;\n",
       "    }\n",
       "\n",
       "    .dataframe tbody tr th {\n",
       "        vertical-align: top;\n",
       "    }\n",
       "\n",
       "    .dataframe thead th {\n",
       "        text-align: right;\n",
       "    }\n",
       "</style>\n",
       "<table border=\"1\" class=\"dataframe\">\n",
       "  <thead>\n",
       "    <tr style=\"text-align: right;\">\n",
       "      <th></th>\n",
       "      <th>TransmissionType</th>\n",
       "      <th>FuelType</th>\n",
       "      <th>ModelYear</th>\n",
       "      <th>KilometersDriven</th>\n",
       "      <th>Location</th>\n",
       "    </tr>\n",
       "  </thead>\n",
       "  <tbody>\n",
       "    <tr>\n",
       "      <th>0</th>\n",
       "      <td>1</td>\n",
       "      <td>4</td>\n",
       "      <td>2017</td>\n",
       "      <td>34.076816</td>\n",
       "      <td>5</td>\n",
       "    </tr>\n",
       "    <tr>\n",
       "      <th>1</th>\n",
       "      <td>1</td>\n",
       "      <td>4</td>\n",
       "      <td>2017</td>\n",
       "      <td>33.211679</td>\n",
       "      <td>5</td>\n",
       "    </tr>\n",
       "    <tr>\n",
       "      <th>2</th>\n",
       "      <td>1</td>\n",
       "      <td>4</td>\n",
       "      <td>2017</td>\n",
       "      <td>50.467875</td>\n",
       "      <td>5</td>\n",
       "    </tr>\n",
       "    <tr>\n",
       "      <th>3</th>\n",
       "      <td>1</td>\n",
       "      <td>1</td>\n",
       "      <td>2015</td>\n",
       "      <td>33.668344</td>\n",
       "      <td>5</td>\n",
       "    </tr>\n",
       "    <tr>\n",
       "      <th>4</th>\n",
       "      <td>0</td>\n",
       "      <td>4</td>\n",
       "      <td>2014</td>\n",
       "      <td>40.861719</td>\n",
       "      <td>5</td>\n",
       "    </tr>\n",
       "    <tr>\n",
       "      <th>...</th>\n",
       "      <td>...</td>\n",
       "      <td>...</td>\n",
       "      <td>...</td>\n",
       "      <td>...</td>\n",
       "      <td>...</td>\n",
       "    </tr>\n",
       "    <tr>\n",
       "      <th>10023</th>\n",
       "      <td>1</td>\n",
       "      <td>1</td>\n",
       "      <td>2010</td>\n",
       "      <td>43.088694</td>\n",
       "      <td>0</td>\n",
       "    </tr>\n",
       "    <tr>\n",
       "      <th>10024</th>\n",
       "      <td>1</td>\n",
       "      <td>4</td>\n",
       "      <td>2020</td>\n",
       "      <td>28.438670</td>\n",
       "      <td>0</td>\n",
       "    </tr>\n",
       "    <tr>\n",
       "      <th>10025</th>\n",
       "      <td>1</td>\n",
       "      <td>4</td>\n",
       "      <td>2016</td>\n",
       "      <td>27.144176</td>\n",
       "      <td>0</td>\n",
       "    </tr>\n",
       "    <tr>\n",
       "      <th>10026</th>\n",
       "      <td>1</td>\n",
       "      <td>1</td>\n",
       "      <td>2010</td>\n",
       "      <td>51.551367</td>\n",
       "      <td>0</td>\n",
       "    </tr>\n",
       "    <tr>\n",
       "      <th>10027</th>\n",
       "      <td>1</td>\n",
       "      <td>4</td>\n",
       "      <td>2014</td>\n",
       "      <td>21.757671</td>\n",
       "      <td>0</td>\n",
       "    </tr>\n",
       "  </tbody>\n",
       "</table>\n",
       "<p>9613 rows × 5 columns</p>\n",
       "</div>"
      ],
      "text/plain": [
       "       TransmissionType  FuelType  ModelYear  KilometersDriven  Location\n",
       "0                     1         4       2017         34.076816         5\n",
       "1                     1         4       2017         33.211679         5\n",
       "2                     1         4       2017         50.467875         5\n",
       "3                     1         1       2015         33.668344         5\n",
       "4                     0         4       2014         40.861719         5\n",
       "...                 ...       ...        ...               ...       ...\n",
       "10023                 1         1       2010         43.088694         0\n",
       "10024                 1         4       2020         28.438670         0\n",
       "10025                 1         4       2016         27.144176         0\n",
       "10026                 1         1       2010         51.551367         0\n",
       "10027                 1         4       2014         21.757671         0\n",
       "\n",
       "[9613 rows x 5 columns]"
      ]
     },
     "execution_count": 29,
     "metadata": {},
     "output_type": "execute_result"
    }
   ],
   "source": [
    "x"
   ]
  },
  {
   "cell_type": "code",
   "execution_count": 58,
   "id": "94ca901c",
   "metadata": {},
   "outputs": [],
   "source": [
    "from sklearn.preprocessing import StandardScaler        #scaling the data\n",
    "\n",
    "x=StandardScaler().fit_transform(x)"
   ]
  },
  {
   "cell_type": "markdown",
   "id": "e7625305",
   "metadata": {},
   "source": [
    "# Building Models:"
   ]
  },
  {
   "cell_type": "markdown",
   "id": "c2968e8b",
   "metadata": {},
   "source": [
    "1. Linear Regression"
   ]
  },
  {
   "cell_type": "code",
   "execution_count": 62,
   "id": "5aef874b",
   "metadata": {},
   "outputs": [
    {
     "name": "stdout",
     "output_type": "stream",
     "text": [
      "At random state 10 the model performs very well\n",
      "At random state 10 :\n",
      "Training accuracy score is 62.499293842422865\n",
      "Testing accuracy score is 62.475162451963726 \n",
      "\n"
     ]
    }
   ],
   "source": [
    "lr=LinearRegression()\n",
    "\n",
    "#checking best random state\n",
    "\n",
    "for i in range(0,100):\n",
    "    x_train,x_test,y_train,y_test=train_test_split(x,y,random_state=i,test_size=.33)\n",
    "    lr.fit(x_train,y_train)\n",
    "    predtrain=lr.predict(x_train)\n",
    "    predlr=lr.predict(x_test)\n",
    "    if round(r2_score(y_test,predlr)*100)==round(r2_score(y_train,predtrain)*100):\n",
    "        print('At random state',i,'the model performs very well')\n",
    "        print('At random state',i,':')\n",
    "        print('Training accuracy score is',r2_score(y_train,predtrain)*100)\n",
    "        print('Testing accuracy score is',r2_score(y_test,predlr)*100,'\\n')"
   ]
  },
  {
   "cell_type": "code",
   "execution_count": 63,
   "id": "6db9ee16",
   "metadata": {},
   "outputs": [
    {
     "name": "stdout",
     "output_type": "stream",
     "text": [
      "0.21884783208170677\n",
      "0.36443507017245624\n"
     ]
    }
   ],
   "source": [
    "#checking error for LinearRegression\n",
    "\n",
    "mselr=mean_squared_error(y_test,predlr)\n",
    "maelr=mean_absolute_error(y_test,predlr)\n",
    "print(mselr)\n",
    "print(maelr)"
   ]
  },
  {
   "cell_type": "markdown",
   "id": "60515395",
   "metadata": {},
   "source": [
    "2. Regularization:\n",
    "- Lasso\n",
    "- Ridge"
   ]
  },
  {
   "cell_type": "code",
   "execution_count": 69,
   "id": "f52f8fee",
   "metadata": {},
   "outputs": [],
   "source": [
    "#Lasso\n",
    "\n",
    "x_train,x_test,y_train,y_test=train_test_split(x,y,random_state=10,test_size=.33)\n",
    "ls=Lasso()\n",
    "ls.fit(x_train,y_train)\n",
    "predtrain=ls.predict(x_train)\n",
    "predls=ls.predict(x_test)"
   ]
  },
  {
   "cell_type": "code",
   "execution_count": 70,
   "id": "70a84338",
   "metadata": {},
   "outputs": [
    {
     "name": "stdout",
     "output_type": "stream",
     "text": [
      "0.5584064464430223\n",
      "0.5817776881765786\n"
     ]
    }
   ],
   "source": [
    "#checking error for Lasso \n",
    "\n",
    "msels=mean_squared_error(y_test,predls)\n",
    "maels=mean_absolute_error(y_test,predls)\n",
    "print(msels)\n",
    "print(maels)"
   ]
  },
  {
   "cell_type": "code",
   "execution_count": 72,
   "id": "c0536296",
   "metadata": {},
   "outputs": [
    {
     "name": "stdout",
     "output_type": "stream",
     "text": [
      "62.47408944215385\n"
     ]
    }
   ],
   "source": [
    "#Ridge\n",
    "\n",
    "lrr=Ridge()\n",
    "x_train,x_test,y_train,y_test=train_test_split(x,y,random_state=10,test_size=.33)\n",
    "lrr.fit(x_train,y_train)\n",
    "predlrr=lrr.predict(x_test)\n",
    "print(r2_score(y_test,predlrr)*100)"
   ]
  },
  {
   "cell_type": "code",
   "execution_count": 101,
   "id": "9ac1eee1",
   "metadata": {},
   "outputs": [
    {
     "name": "stdout",
     "output_type": "stream",
     "text": [
      "0.20950171884496108\n",
      "0.35781177228463606\n"
     ]
    }
   ],
   "source": [
    "#checking error for Ridge\n",
    "\n",
    "mselrr=mean_squared_error(y_test,predlrr)\n",
    "maelrr=mean_absolute_error(y_test,predlrr)\n",
    "print(mselrr)\n",
    "print(maelrr)"
   ]
  },
  {
   "cell_type": "markdown",
   "id": "0d0d20bc",
   "metadata": {},
   "source": [
    "3. KNeighbors"
   ]
  },
  {
   "cell_type": "code",
   "execution_count": 102,
   "id": "52f93882",
   "metadata": {},
   "outputs": [
    {
     "name": "stdout",
     "output_type": "stream",
     "text": [
      "55.98880868606349\n"
     ]
    }
   ],
   "source": [
    "#KNeighbors\n",
    "\n",
    "knn=KNeighborsRegressor()\n",
    "x_train,x_test,y_train,y_test=train_test_split(x,y,random_state=10,test_size=.33)\n",
    "knn.fit(x_train,y_train)\n",
    "predknn=knn.predict(x_test)\n",
    "print(r2_score(y_test,predknn)*100)"
   ]
  },
  {
   "cell_type": "code",
   "execution_count": 103,
   "id": "700d10ca",
   "metadata": {},
   "outputs": [
    {
     "name": "stdout",
     "output_type": "stream",
     "text": [
      "0.24571529170952025\n",
      "0.370661106771423\n"
     ]
    }
   ],
   "source": [
    "#checking error for KNeighbors\n",
    "\n",
    "mseknn=mean_squared_error(y_test,predknn)\n",
    "maeknn=mean_absolute_error(y_test,predknn)\n",
    "print(mseknn)\n",
    "print(maeknn)"
   ]
  },
  {
   "cell_type": "markdown",
   "id": "c4a0e029",
   "metadata": {},
   "source": [
    "4. DecisionTree"
   ]
  },
  {
   "cell_type": "code",
   "execution_count": 104,
   "id": "294454d4",
   "metadata": {},
   "outputs": [
    {
     "name": "stdout",
     "output_type": "stream",
     "text": [
      "41.58264783820383\n"
     ]
    }
   ],
   "source": [
    "#DecisionTree\n",
    "\n",
    "dtc=DecisionTreeRegressor()\n",
    "x_train,x_test,y_train,y_test=train_test_split(x,y,random_state=10,test_size=.33)\n",
    "dtc.fit(x_train,y_train)\n",
    "preddtc=dtc.predict(x_test)\n",
    "print(r2_score(y_test,preddtc)*100)"
   ]
  },
  {
   "cell_type": "code",
   "execution_count": 105,
   "id": "4ca0b5b5",
   "metadata": {},
   "outputs": [
    {
     "name": "stdout",
     "output_type": "stream",
     "text": [
      "0.32614515305765407\n",
      "0.4243194579374122\n"
     ]
    }
   ],
   "source": [
    "#checking error for DecisionTree\n",
    "\n",
    "msedtc=mean_squared_error(y_test,preddtc)\n",
    "maedtc=mean_absolute_error(y_test,preddtc)\n",
    "print(msedtc)\n",
    "print(maedtc)"
   ]
  },
  {
   "cell_type": "markdown",
   "id": "b2faddd6",
   "metadata": {},
   "source": [
    "5. Ensemble:\n",
    "- AdaBoost\n",
    "- RandomForest\n",
    "- GradientBoosting"
   ]
  },
  {
   "cell_type": "code",
   "execution_count": 106,
   "id": "cc45a8bf",
   "metadata": {},
   "outputs": [
    {
     "name": "stdout",
     "output_type": "stream",
     "text": [
      "59.96087515437216\n"
     ]
    }
   ],
   "source": [
    "#AdaBoost\n",
    "\n",
    "ada=AdaBoostRegressor()\n",
    "x_train,x_test,y_train,y_test=train_test_split(x,y,random_state=10,test_size=.33)\n",
    "ada.fit(x_train,y_train)\n",
    "predada=ada.predict(x_test)\n",
    "print(r2_score(y_test,predada)*100)"
   ]
  },
  {
   "cell_type": "code",
   "execution_count": 107,
   "id": "8ff82397",
   "metadata": {},
   "outputs": [
    {
     "name": "stdout",
     "output_type": "stream",
     "text": [
      "0.22353917145891913\n",
      "0.3702796110816887\n"
     ]
    }
   ],
   "source": [
    "#checking error for AdaBoost\n",
    "\n",
    "mseada=mean_squared_error(y_test,predada)\n",
    "maeada=mean_absolute_error(y_test,predada)\n",
    "print(mseada)\n",
    "print(maeada)"
   ]
  },
  {
   "cell_type": "code",
   "execution_count": 110,
   "id": "5324ac63",
   "metadata": {},
   "outputs": [
    {
     "name": "stdout",
     "output_type": "stream",
     "text": [
      "63.73434460795371\n"
     ]
    }
   ],
   "source": [
    "#RandomForest\n",
    "\n",
    "rf=RandomForestRegressor()\n",
    "x_train,x_test,y_train,y_test=train_test_split(x,y,random_state=10,test_size=.33)\n",
    "rf.fit(x_train,y_train)\n",
    "predrf=rf.predict(x_test)\n",
    "print(r2_score(y_test,predrf)*100)"
   ]
  },
  {
   "cell_type": "code",
   "execution_count": 111,
   "id": "546a4aed",
   "metadata": {},
   "outputs": [
    {
     "name": "stdout",
     "output_type": "stream",
     "text": [
      "0.20247182199932504\n",
      "0.3377761866665455\n"
     ]
    }
   ],
   "source": [
    "#checking error for RandomForest\n",
    "\n",
    "mserf=mean_squared_error(y_test,predrf)\n",
    "maerf=mean_absolute_error(y_test,predrf)\n",
    "print(mserf)\n",
    "print(maerf)"
   ]
  },
  {
   "cell_type": "code",
   "execution_count": 108,
   "id": "92a7a07c",
   "metadata": {},
   "outputs": [
    {
     "name": "stdout",
     "output_type": "stream",
     "text": [
      "68.60937099832394\n"
     ]
    }
   ],
   "source": [
    "#Gradient Boosting\n",
    "\n",
    "gb=GradientBoostingRegressor()\n",
    "x_train,x_test,y_train,y_test=train_test_split(x,y,random_state=10,test_size=.33)\n",
    "gb.fit(x_train,y_train)\n",
    "predgb=gb.predict(x_test)\n",
    "print(r2_score(y_test,predgb)*100)"
   ]
  },
  {
   "cell_type": "code",
   "execution_count": 109,
   "id": "4272cd1a",
   "metadata": {},
   "outputs": [
    {
     "name": "stdout",
     "output_type": "stream",
     "text": [
      "0.17525445987302157\n",
      "0.3120775482121885\n"
     ]
    }
   ],
   "source": [
    "#checking error for GradientBoosting\n",
    "\n",
    "msegb=mean_squared_error(y_test,predgb)\n",
    "maegb=mean_absolute_error(y_test,predgb)\n",
    "print(msegb)\n",
    "print(maegb)"
   ]
  },
  {
   "cell_type": "markdown",
   "id": "53730fd5",
   "metadata": {},
   "source": [
    "6. XGBoost"
   ]
  },
  {
   "cell_type": "code",
   "execution_count": 113,
   "id": "377b7291",
   "metadata": {},
   "outputs": [
    {
     "name": "stdout",
     "output_type": "stream",
     "text": [
      "67.8107387642834\n"
     ]
    }
   ],
   "source": [
    "#XGBoost\n",
    "\n",
    "xgb=XGBRegressor()\n",
    "x_train,x_test,y_train,y_test=train_test_split(x,y,random_state=10,test_size=.33)\n",
    "xgb.fit(x_train,y_train)\n",
    "predxgb=xgb.predict(x_test)\n",
    "print(r2_score(y_test,predxgb)*100)"
   ]
  },
  {
   "cell_type": "code",
   "execution_count": 114,
   "id": "dfa19261",
   "metadata": {},
   "outputs": [
    {
     "name": "stdout",
     "output_type": "stream",
     "text": [
      "0.17971323834498157\n",
      "0.31760370385872344\n"
     ]
    }
   ],
   "source": [
    "#checking error for GradientBoosting\n",
    "\n",
    "msexgb=mean_squared_error(y_test,predxgb)\n",
    "maexgb=mean_absolute_error(y_test,predxgb)\n",
    "print(msexgb)\n",
    "print(maexgb)"
   ]
  },
  {
   "cell_type": "code",
   "execution_count": null,
   "id": "f1c3d596",
   "metadata": {},
   "outputs": [],
   "source": []
  },
  {
   "cell_type": "markdown",
   "id": "3f7d7715",
   "metadata": {},
   "source": [
    "# Best Model?"
   ]
  },
  {
   "cell_type": "code",
   "execution_count": 115,
   "id": "6d1be4c7",
   "metadata": {},
   "outputs": [
    {
     "data": {
      "text/html": [
       "<div>\n",
       "<style scoped>\n",
       "    .dataframe tbody tr th:only-of-type {\n",
       "        vertical-align: middle;\n",
       "    }\n",
       "\n",
       "    .dataframe tbody tr th {\n",
       "        vertical-align: top;\n",
       "    }\n",
       "\n",
       "    .dataframe thead th {\n",
       "        text-align: right;\n",
       "    }\n",
       "</style>\n",
       "<table border=\"1\" class=\"dataframe\">\n",
       "  <thead>\n",
       "    <tr style=\"text-align: right;\">\n",
       "      <th></th>\n",
       "      <th>Mean Squared Error</th>\n",
       "      <th>Mean Absolute Error</th>\n",
       "      <th>Accuracy Score</th>\n",
       "    </tr>\n",
       "  </thead>\n",
       "  <tbody>\n",
       "    <tr>\n",
       "      <th>GradientBoostingRegressor</th>\n",
       "      <td>0.175254</td>\n",
       "      <td>0.312078</td>\n",
       "      <td>0.686094</td>\n",
       "    </tr>\n",
       "    <tr>\n",
       "      <th>XGBRegressor</th>\n",
       "      <td>0.179713</td>\n",
       "      <td>0.317604</td>\n",
       "      <td>0.678107</td>\n",
       "    </tr>\n",
       "    <tr>\n",
       "      <th>RandomForestRegressor</th>\n",
       "      <td>0.202472</td>\n",
       "      <td>0.337776</td>\n",
       "      <td>0.637343</td>\n",
       "    </tr>\n",
       "    <tr>\n",
       "      <th>Ridge</th>\n",
       "      <td>0.209502</td>\n",
       "      <td>0.357812</td>\n",
       "      <td>0.624752</td>\n",
       "    </tr>\n",
       "    <tr>\n",
       "      <th>LinearRegression</th>\n",
       "      <td>0.209502</td>\n",
       "      <td>0.357819</td>\n",
       "      <td>0.624752</td>\n",
       "    </tr>\n",
       "    <tr>\n",
       "      <th>AdaBoostRegressor</th>\n",
       "      <td>0.223539</td>\n",
       "      <td>0.370280</td>\n",
       "      <td>0.599609</td>\n",
       "    </tr>\n",
       "    <tr>\n",
       "      <th>KNeighborsRegressor</th>\n",
       "      <td>0.245715</td>\n",
       "      <td>0.370661</td>\n",
       "      <td>0.559888</td>\n",
       "    </tr>\n",
       "    <tr>\n",
       "      <th>DecisionTreeClassifier</th>\n",
       "      <td>0.326145</td>\n",
       "      <td>0.424319</td>\n",
       "      <td>0.415826</td>\n",
       "    </tr>\n",
       "    <tr>\n",
       "      <th>Lasso</th>\n",
       "      <td>0.472075</td>\n",
       "      <td>0.530769</td>\n",
       "      <td>0.154445</td>\n",
       "    </tr>\n",
       "  </tbody>\n",
       "</table>\n",
       "</div>"
      ],
      "text/plain": [
       "                           Mean Squared Error  Mean Absolute Error  \\\n",
       "GradientBoostingRegressor            0.175254             0.312078   \n",
       "XGBRegressor                         0.179713             0.317604   \n",
       "RandomForestRegressor                0.202472             0.337776   \n",
       "Ridge                                0.209502             0.357812   \n",
       "LinearRegression                     0.209502             0.357819   \n",
       "AdaBoostRegressor                    0.223539             0.370280   \n",
       "KNeighborsRegressor                  0.245715             0.370661   \n",
       "DecisionTreeClassifier               0.326145             0.424319   \n",
       "Lasso                                0.472075             0.530769   \n",
       "\n",
       "                           Accuracy Score  \n",
       "GradientBoostingRegressor        0.686094  \n",
       "XGBRegressor                     0.678107  \n",
       "RandomForestRegressor            0.637343  \n",
       "Ridge                            0.624752  \n",
       "LinearRegression                 0.624752  \n",
       "AdaBoostRegressor                0.599609  \n",
       "KNeighborsRegressor              0.559888  \n",
       "DecisionTreeClassifier           0.415826  \n",
       "Lasso                            0.154445  "
      ]
     },
     "execution_count": 115,
     "metadata": {},
     "output_type": "execute_result"
    }
   ],
   "source": [
    "results = pd.DataFrame({'Mean Squared Error':[mselr,msels,mselrr,mseknn,msedtc,mseada,msegb,mserf,msexgb],'Mean Absolute Error':[maelr,maels,maelrr,maeknn,maedtc,maeada,maegb,maerf,maexgb],'Accuracy Score':[r2_score(y_test,predlr),r2_score(y_test,predls),r2_score(y_test,predlrr),r2_score(y_test,predknn),r2_score(y_test,preddtc),r2_score(y_test,predada),r2_score(y_test,predgb),r2_score(y_test,predrf),r2_score(y_test,predxgb)]},index=['LinearRegression','Lasso','Ridge','KNeighborsRegressor','DecisionTreeClassifier','AdaBoostRegressor','GradientBoostingRegressor','RandomForestRegressor','XGBRegressor'])\n",
    "result_df = results.sort_values(by='Accuracy Score', ascending=False)\n",
    "result_df"
   ]
  },
  {
   "cell_type": "markdown",
   "id": "866389e3",
   "metadata": {},
   "source": [
    "- So as GradientBoostingRegressor model is working the best so far, with lowest errors, let's checkout for cross validation score before jumping onto conclusions"
   ]
  },
  {
   "cell_type": "code",
   "execution_count": 118,
   "id": "98153b40",
   "metadata": {},
   "outputs": [
    {
     "name": "stdout",
     "output_type": "stream",
     "text": [
      "Scores: [0.68892747 0.61099827 0.69093767 0.71733044 0.6793691  0.65009281\n",
      " 0.68628653 0.63410298 0.64201789 0.57300563] \n",
      "\n",
      "Mean: 0.6573068779860471 \n",
      "\n",
      "Standard Deviation: 0.041395272331228805\n"
     ]
    }
   ],
   "source": [
    "#Cross validation for Gradient Boosting\n",
    "\n",
    "gb = GradientBoostingRegressor()\n",
    "scores = cross_val_score(gb, x, y, cv=10)\n",
    "print(\"Scores:\", scores,'\\n')\n",
    "print(\"Mean:\", scores.mean(),'\\n')\n",
    "print(\"Standard Deviation:\", scores.std())"
   ]
  },
  {
   "cell_type": "markdown",
   "id": "6434f9d2",
   "metadata": {},
   "source": [
    "- So this means that the model is perfoming fine with gbr,the mean of the scores is 65% for our model and standard deviation in our case means that the score can differ with +/- 4%"
   ]
  },
  {
   "cell_type": "code",
   "execution_count": 119,
   "id": "6bbb8aa4",
   "metadata": {},
   "outputs": [
    {
     "data": {
      "text/html": [
       "<div>\n",
       "<style scoped>\n",
       "    .dataframe tbody tr th:only-of-type {\n",
       "        vertical-align: middle;\n",
       "    }\n",
       "\n",
       "    .dataframe tbody tr th {\n",
       "        vertical-align: top;\n",
       "    }\n",
       "\n",
       "    .dataframe thead th {\n",
       "        text-align: right;\n",
       "    }\n",
       "</style>\n",
       "<table border=\"1\" class=\"dataframe\">\n",
       "  <thead>\n",
       "    <tr style=\"text-align: right;\">\n",
       "      <th></th>\n",
       "      <th>importance</th>\n",
       "    </tr>\n",
       "    <tr>\n",
       "      <th>feature</th>\n",
       "      <th></th>\n",
       "    </tr>\n",
       "  </thead>\n",
       "  <tbody>\n",
       "    <tr>\n",
       "      <th>TransmissionType</th>\n",
       "      <td>0.295</td>\n",
       "    </tr>\n",
       "    <tr>\n",
       "      <th>ModelYear</th>\n",
       "      <td>0.290</td>\n",
       "    </tr>\n",
       "    <tr>\n",
       "      <th>KilometersDriven</th>\n",
       "      <td>0.223</td>\n",
       "    </tr>\n",
       "    <tr>\n",
       "      <th>FuelType</th>\n",
       "      <td>0.107</td>\n",
       "    </tr>\n",
       "    <tr>\n",
       "      <th>Location</th>\n",
       "      <td>0.085</td>\n",
       "    </tr>\n",
       "  </tbody>\n",
       "</table>\n",
       "</div>"
      ],
      "text/plain": [
       "                  importance\n",
       "feature                     \n",
       "TransmissionType       0.295\n",
       "ModelYear              0.290\n",
       "KilometersDriven       0.223\n",
       "FuelType               0.107\n",
       "Location               0.085"
      ]
     },
     "execution_count": 119,
     "metadata": {},
     "output_type": "execute_result"
    }
   ],
   "source": [
    "#lets checkout the feature importance \n",
    "\n",
    "gb = GradientBoostingRegressor()\n",
    "gb.fit(x_train,y_train)\n",
    "importances = pd.DataFrame({'feature':x_train.columns,'importance':np.round(rf.feature_importances_,3)})\n",
    "importances = importances.sort_values('importance',ascending=False).set_index('feature')\n",
    "importances"
   ]
  },
  {
   "cell_type": "code",
   "execution_count": 120,
   "id": "3de52b29",
   "metadata": {},
   "outputs": [
    {
     "data": {
      "text/plain": [
       "<AxesSubplot:xlabel='feature'>"
      ]
     },
     "execution_count": 120,
     "metadata": {},
     "output_type": "execute_result"
    },
    {
     "data": {
      "image/png": "[encoded data removed]",
      "text/plain": [
       "<Figure size 432x288 with 1 Axes>"
      ]
     },
     "metadata": {
      "needs_background": "light"
     },
     "output_type": "display_data"
    }
   ],
   "source": [
    "importances.plot.bar()"
   ]
  },
  {
   "cell_type": "markdown",
   "id": "2e8a0513",
   "metadata": {},
   "source": [
    "- Location has a very low feature importance , so let's drop it and try building a model again"
   ]
  },
  {
   "cell_type": "code",
   "execution_count": 121,
   "id": "7e8071a1",
   "metadata": {},
   "outputs": [],
   "source": [
    "x.drop('Location',axis=1,inplace=True)"
   ]
  },
  {
   "cell_type": "code",
   "execution_count": 123,
   "id": "5120fe98",
   "metadata": {},
   "outputs": [
    {
     "name": "stdout",
     "output_type": "stream",
     "text": [
      "66.58 %\n"
     ]
    }
   ],
   "source": [
    "gb = GradientBoostingRegressor()\n",
    "x_train,x_test,y_train,y_test=train_test_split(x,y,random_state=10,test_size=.33)\n",
    "\n",
    "gb.fit(x_train,y_train)\n",
    "y_prediction = gb.predict(x_test)\n",
    "\n",
    "acc_gb=round(r2_score(y_test, y_prediction)*100,2)\n",
    "print(acc_gb,\"%\")"
   ]
  },
  {
   "cell_type": "markdown",
   "id": "a288cb1c",
   "metadata": {},
   "source": [
    "# Hyperparameter Tuning:"
   ]
  },
  {
   "cell_type": "code",
   "execution_count": 126,
   "id": "8c5d8f5d",
   "metadata": {},
   "outputs": [],
   "source": [
    "from sklearn.experimental import enable_halving_search_cv\n",
    "from sklearn.model_selection import HalvingGridSearchCV"
   ]
  },
  {
   "cell_type": "code",
   "execution_count": 127,
   "id": "ab5a05ac",
   "metadata": {},
   "outputs": [],
   "source": [
    "gb=GradientBoostingRegressor()"
   ]
  },
  {
   "cell_type": "code",
   "execution_count": 130,
   "id": "7cb20157",
   "metadata": {},
   "outputs": [
    {
     "data": {
      "text/plain": [
       "{'n_estimators': 100}"
      ]
     },
     "execution_count": 130,
     "metadata": {},
     "output_type": "execute_result"
    }
   ],
   "source": [
    "param_grid1 = {\"n_estimators\":[i for i in range(1,100)]}\n",
    "search = HalvingGridSearchCV(gb, param_grid1).fit(x, y)\n",
    "search.best_params_  "
   ]
  },
  {
   "cell_type": "code",
   "execution_count": 131,
   "id": "510ea1a9",
   "metadata": {},
   "outputs": [
    {
     "data": {
      "text/plain": [
       "{'max_depth': 5, 'min_samples_split': 800}"
      ]
     },
     "execution_count": 131,
     "metadata": {},
     "output_type": "execute_result"
    }
   ],
   "source": [
    "param_grid2 = {'max_depth':range(5,100,5), 'min_samples_split':range(200,1001,200)}\n",
    "search = HalvingGridSearchCV(gb, param_grid2).fit(x, y)\n",
    "search.best_params_  "
   ]
  },
  {
   "cell_type": "code",
   "execution_count": 134,
   "id": "ae27f7cb",
   "metadata": {},
   "outputs": [
    {
     "data": {
      "text/plain": [
       "{'min_samples_leaf': 29}"
      ]
     },
     "execution_count": 134,
     "metadata": {},
     "output_type": "execute_result"
    }
   ],
   "source": [
    "param_grid3 = {'min_samples_leaf':range(1,100)}\n",
    "search = HalvingGridSearchCV(gb, param_grid3).fit(x, y)\n",
    "search.best_params_  "
   ]
  },
  {
   "cell_type": "code",
   "execution_count": 136,
   "id": "c8a02a41",
   "metadata": {},
   "outputs": [
    {
     "data": {
      "text/plain": [
       "{'learning_rate': 0.1}"
      ]
     },
     "execution_count": 136,
     "metadata": {},
     "output_type": "execute_result"
    }
   ],
   "source": [
    "param_grid4 = {'learning_rate':[0.1,0.2,0.3,0.4,0.5,0.6,0.7,0.8,0.9,1.0]}\n",
    "search = HalvingGridSearchCV(gb, param_grid4).fit(x, y)\n",
    "search.best_params_"
   ]
  },
  {
   "cell_type": "code",
   "execution_count": 137,
   "id": "d189e540",
   "metadata": {},
   "outputs": [
    {
     "data": {
      "text/plain": [
       "{'criterion': 'mse', 'max_features': 'log2'}"
      ]
     },
     "execution_count": 137,
     "metadata": {},
     "output_type": "execute_result"
    }
   ],
   "source": [
    "param_grid5 = {'max_features' : ['auto', 'sqrt', 'log2'] ,'criterion' : ['friedman_mse', 'squared_error', 'mse', 'mae'] }\n",
    "search = HalvingGridSearchCV(gb, param_grid5).fit(x, y)\n",
    "search.best_params_"
   ]
  },
  {
   "cell_type": "code",
   "execution_count": 138,
   "id": "27ce94fe",
   "metadata": {},
   "outputs": [
    {
     "data": {
      "text/plain": [
       "{'loss': 'squared_error'}"
      ]
     },
     "execution_count": 138,
     "metadata": {},
     "output_type": "execute_result"
    }
   ],
   "source": [
    "param_grid6 = {'loss' : ['squared_error', 'absolute_error', 'huber', 'quantile']}\n",
    "search = HalvingGridSearchCV(gb, param_grid6).fit(x, y)\n",
    "search.best_params_"
   ]
  },
  {
   "cell_type": "code",
   "execution_count": null,
   "id": "20097197",
   "metadata": {},
   "outputs": [],
   "source": []
  },
  {
   "cell_type": "markdown",
   "id": "45d8ce8d",
   "metadata": {},
   "source": [
    "# Evaluation:"
   ]
  },
  {
   "cell_type": "markdown",
   "id": "a7b7cf91",
   "metadata": {},
   "source": [
    "1. Mean Absolute Error"
   ]
  },
  {
   "cell_type": "code",
   "execution_count": 150,
   "id": "143be265",
   "metadata": {},
   "outputs": [
    {
     "name": "stdout",
     "output_type": "stream",
     "text": [
      "Mean Absolute Error: 0.320839307152059\n"
     ]
    }
   ],
   "source": [
    "print('Mean Absolute Error:',mean_absolute_error(y_test,predgb))"
   ]
  },
  {
   "cell_type": "markdown",
   "id": "0e5c9598",
   "metadata": {},
   "source": [
    "2. Mean Squared Error"
   ]
  },
  {
   "cell_type": "code",
   "execution_count": 151,
   "id": "e1a93e4d",
   "metadata": {},
   "outputs": [
    {
     "name": "stdout",
     "output_type": "stream",
     "text": [
      "Mean Squared Error: 0.18120203540952387\n"
     ]
    }
   ],
   "source": [
    "print('Mean Squared Error:',mean_squared_error(y_test,predgb))"
   ]
  },
  {
   "cell_type": "markdown",
   "id": "8e87b755",
   "metadata": {},
   "source": [
    "3. Root Mean Squared Error"
   ]
  },
  {
   "cell_type": "code",
   "execution_count": 152,
   "id": "8d72cce0",
   "metadata": {},
   "outputs": [
    {
     "name": "stdout",
     "output_type": "stream",
     "text": [
      "Root Mean Squared Error: 0.42567832386618404\n"
     ]
    }
   ],
   "source": [
    "print('Root Mean Squared Error:',np.sqrt(mean_squared_error(y_test,predgb)))"
   ]
  },
  {
   "cell_type": "markdown",
   "id": "ba0949b9",
   "metadata": {},
   "source": [
    "4. R Squared score"
   ]
  },
  {
   "cell_type": "code",
   "execution_count": 153,
   "id": "a1b96d2e",
   "metadata": {},
   "outputs": [
    {
     "name": "stdout",
     "output_type": "stream",
     "text": [
      "R Squared Score: 68.47 %\n"
     ]
    }
   ],
   "source": [
    "print('R Squared Score:',round(r2_score(y_test,predgb)*100,2),'%')"
   ]
  },
  {
   "cell_type": "markdown",
   "id": "7e157bef",
   "metadata": {},
   "source": [
    "5. Mean Squared Log Error"
   ]
  },
  {
   "cell_type": "code",
   "execution_count": 156,
   "id": "2ea79fa9",
   "metadata": {},
   "outputs": [
    {
     "name": "stdout",
     "output_type": "stream",
     "text": [
      "Mean Squared Log Error: 0.023301923294183607\n"
     ]
    }
   ],
   "source": [
    "print('Mean Squared Log Error:',mean_squared_log_error(y_test,predgb))"
   ]
  },
  {
   "cell_type": "code",
   "execution_count": 157,
   "id": "8dbedce5",
   "metadata": {},
   "outputs": [
    {
     "data": {
      "image/png": "[encoded data removed]",
      "text/plain": [
       "<Figure size 432x288 with 1 Axes>"
      ]
     },
     "metadata": {
      "needs_background": "light"
     },
     "output_type": "display_data"
    }
   ],
   "source": [
    "#now plotting both predicted and actual values\n",
    "\n",
    "sns.scatterplot(y_test,predgb)\n",
    "plt.xlabel(\"Actual Sale Price\")\n",
    "plt.ylabel(\"Predicted Sale Price\")\n",
    "plt.show()"
   ]
  },
  {
   "cell_type": "code",
   "execution_count": 158,
   "id": "465c8745",
   "metadata": {},
   "outputs": [
    {
     "data": {
      "text/html": [
       "<div>\n",
       "<style scoped>\n",
       "    .dataframe tbody tr th:only-of-type {\n",
       "        vertical-align: middle;\n",
       "    }\n",
       "\n",
       "    .dataframe tbody tr th {\n",
       "        vertical-align: top;\n",
       "    }\n",
       "\n",
       "    .dataframe thead th {\n",
       "        text-align: right;\n",
       "    }\n",
       "</style>\n",
       "<table border=\"1\" class=\"dataframe\">\n",
       "  <thead>\n",
       "    <tr style=\"text-align: right;\">\n",
       "      <th></th>\n",
       "      <th>Actual Sale Price</th>\n",
       "      <th>Predicted Sale Price</th>\n",
       "    </tr>\n",
       "  </thead>\n",
       "  <tbody>\n",
       "    <tr>\n",
       "      <th>2310</th>\n",
       "      <td>2.463853</td>\n",
       "      <td>2.607892</td>\n",
       "    </tr>\n",
       "    <tr>\n",
       "      <th>645</th>\n",
       "      <td>2.656757</td>\n",
       "      <td>2.586742</td>\n",
       "    </tr>\n",
       "    <tr>\n",
       "      <th>599</th>\n",
       "      <td>2.827314</td>\n",
       "      <td>2.820348</td>\n",
       "    </tr>\n",
       "    <tr>\n",
       "      <th>1360</th>\n",
       "      <td>1.994700</td>\n",
       "      <td>1.938848</td>\n",
       "    </tr>\n",
       "    <tr>\n",
       "      <th>6784</th>\n",
       "      <td>2.014903</td>\n",
       "      <td>1.668458</td>\n",
       "    </tr>\n",
       "    <tr>\n",
       "      <th>...</th>\n",
       "      <td>...</td>\n",
       "      <td>...</td>\n",
       "    </tr>\n",
       "    <tr>\n",
       "      <th>9367</th>\n",
       "      <td>1.235471</td>\n",
       "      <td>1.554547</td>\n",
       "    </tr>\n",
       "    <tr>\n",
       "      <th>8205</th>\n",
       "      <td>3.481240</td>\n",
       "      <td>2.633796</td>\n",
       "    </tr>\n",
       "    <tr>\n",
       "      <th>3809</th>\n",
       "      <td>2.277267</td>\n",
       "      <td>1.928418</td>\n",
       "    </tr>\n",
       "    <tr>\n",
       "      <th>3547</th>\n",
       "      <td>1.272566</td>\n",
       "      <td>1.602741</td>\n",
       "    </tr>\n",
       "    <tr>\n",
       "      <th>6711</th>\n",
       "      <td>2.151762</td>\n",
       "      <td>2.173963</td>\n",
       "    </tr>\n",
       "  </tbody>\n",
       "</table>\n",
       "<p>3173 rows × 2 columns</p>\n",
       "</div>"
      ],
      "text/plain": [
       "      Actual Sale Price  Predicted Sale Price\n",
       "2310           2.463853              2.607892\n",
       "645            2.656757              2.586742\n",
       "599            2.827314              2.820348\n",
       "1360           1.994700              1.938848\n",
       "6784           2.014903              1.668458\n",
       "...                 ...                   ...\n",
       "9367           1.235471              1.554547\n",
       "8205           3.481240              2.633796\n",
       "3809           2.277267              1.928418\n",
       "3547           1.272566              1.602741\n",
       "6711           2.151762              2.173963\n",
       "\n",
       "[3173 rows x 2 columns]"
      ]
     },
     "execution_count": 158,
     "metadata": {},
     "output_type": "execute_result"
    }
   ],
   "source": [
    "preddf=pd.DataFrame({'Actual Sale Price':y_test,'Predicted Sale Price':predgb})\n",
    "preddf"
   ]
  },
  {
   "cell_type": "code",
   "execution_count": 164,
   "id": "8a4b2741",
   "metadata": {},
   "outputs": [
    {
     "name": "stdout",
     "output_type": "stream",
     "text": [
      "The model is performing well with Gradient Boosting Regressor \n",
      "\n",
      "Accuracy Score: 68\n",
      "Cross Validation Score: 68\n"
     ]
    }
   ],
   "source": [
    "print('The model is performing well with Gradient Boosting Regressor','\\n')\n",
    "print('Accuracy Score:', round(r2_score(y_test,predgb)*100))\n",
    "print('Cross Validation Score:', round(scores.mean()*100))"
   ]
  },
  {
   "cell_type": "code",
   "execution_count": 165,
   "id": "ce0f82f8",
   "metadata": {},
   "outputs": [],
   "source": [
    "#saving the best model\n",
    "\n",
    "import pickle\n",
    "pickle.dump(gb,open('usedcarsaleprice.pkl','wb'))"
   ]
  },
  {
   "cell_type": "code",
   "execution_count": null,
   "id": "8fb07aa3",
   "metadata": {},
   "outputs": [],
   "source": []
  }
 ],
 "metadata": {
  "kernelspec": {
   "display_name": "Python 3 (ipykernel)",
   "language": "python",
   "name": "python3"
  },
  "language_info": {
   "codemirror_mode": {
    "name": "ipython",
    "version": 3
   },
   "file_extension": ".py",
   "mimetype": "text/x-python",
   "name": "python",
   "nbconvert_exporter": "python",
   "pygments_lexer": "ipython3",
   "version": "3.9.7"
  }
 },
 "nbformat": 4,
 "nbformat_minor": 5
}
